{
  "nbformat": 4,
  "nbformat_minor": 0,
  "metadata": {
    "kernelspec": {
      "display_name": "Python 3",
      "language": "python",
      "name": "python3"
    },
    "language_info": {
      "codemirror_mode": {
        "name": "ipython",
        "version": 3
      },
      "file_extension": ".py",
      "mimetype": "text/x-python",
      "name": "python",
      "nbconvert_exporter": "python",
      "pygments_lexer": "ipython3",
      "version": "3.7.6"
    },
    "colab": {
      "name": "CH5019_GRP41_Question-3.ipynb",
      "provenance": [],
      "include_colab_link": true
    }
  },
  "cells": [
    {
      "cell_type": "markdown",
      "metadata": {
        "id": "view-in-github",
        "colab_type": "text"
      },
      "source": [
        "<a href=\"https://colab.research.google.com/github/rahulkr060395/CAPSTONE-PROJECT/blob/master/COVID.ipynb\" target=\"_parent\"><img src=\"https://colab.research.google.com/assets/colab-badge.svg\" alt=\"Open In Colab\"/></a>"
      ]
    },
    {
      "cell_type": "markdown",
      "metadata": {
        "id": "zPBdaEAaIQfN"
      },
      "source": [
        "#  Question-3"
      ]
    },
    {
      "cell_type": "markdown",
      "metadata": {
        "id": "GEnOQK0UIQfT"
      },
      "source": [
        "### Importing libraries"
      ]
    },
    {
      "cell_type": "code",
      "metadata": {
        "id": "qgkLmqJkIQfV"
      },
      "source": [
        "import pandas as pd\n",
        "import datetime\n",
        "import numpy as np\n",
        "import matplotlib.pyplot as plt\n",
        "import seaborn as sns"
      ],
      "execution_count": null,
      "outputs": []
    },
    {
      "cell_type": "markdown",
      "metadata": {
        "id": "n9_6GbqYIQfe"
      },
      "source": [
        "### Part 1"
      ]
    },
    {
      "cell_type": "code",
      "metadata": {
        "id": "lxaOlRucIQff"
      },
      "source": [
        "age_group = pd.read_csv('AgeGroupDetails.csv')"
      ],
      "execution_count": null,
      "outputs": []
    },
    {
      "cell_type": "code",
      "metadata": {
        "id": "HiyanRdyIQfm",
        "outputId": "3a3094ac-2cbe-4b77-a31a-c919194bd31f"
      },
      "source": [
        "age_group.head()"
      ],
      "execution_count": null,
      "outputs": [
        {
          "output_type": "execute_result",
          "data": {
            "text/html": [
              "<div>\n",
              "<style scoped>\n",
              "    .dataframe tbody tr th:only-of-type {\n",
              "        vertical-align: middle;\n",
              "    }\n",
              "\n",
              "    .dataframe tbody tr th {\n",
              "        vertical-align: top;\n",
              "    }\n",
              "\n",
              "    .dataframe thead th {\n",
              "        text-align: right;\n",
              "    }\n",
              "</style>\n",
              "<table border=\"1\" class=\"dataframe\">\n",
              "  <thead>\n",
              "    <tr style=\"text-align: right;\">\n",
              "      <th></th>\n",
              "      <th>Sno</th>\n",
              "      <th>AgeGroup</th>\n",
              "      <th>TotalCases</th>\n",
              "      <th>Percentage</th>\n",
              "    </tr>\n",
              "  </thead>\n",
              "  <tbody>\n",
              "    <tr>\n",
              "      <th>0</th>\n",
              "      <td>1</td>\n",
              "      <td>0-9</td>\n",
              "      <td>22</td>\n",
              "      <td>3.18%</td>\n",
              "    </tr>\n",
              "    <tr>\n",
              "      <th>1</th>\n",
              "      <td>2</td>\n",
              "      <td>10-19</td>\n",
              "      <td>27</td>\n",
              "      <td>3.90%</td>\n",
              "    </tr>\n",
              "    <tr>\n",
              "      <th>2</th>\n",
              "      <td>3</td>\n",
              "      <td>20-29</td>\n",
              "      <td>172</td>\n",
              "      <td>24.86%</td>\n",
              "    </tr>\n",
              "    <tr>\n",
              "      <th>3</th>\n",
              "      <td>4</td>\n",
              "      <td>30-39</td>\n",
              "      <td>146</td>\n",
              "      <td>21.10%</td>\n",
              "    </tr>\n",
              "    <tr>\n",
              "      <th>4</th>\n",
              "      <td>5</td>\n",
              "      <td>40-49</td>\n",
              "      <td>112</td>\n",
              "      <td>16.18%</td>\n",
              "    </tr>\n",
              "  </tbody>\n",
              "</table>\n",
              "</div>"
            ],
            "text/plain": [
              "   Sno AgeGroup  TotalCases Percentage\n",
              "0    1      0-9          22      3.18%\n",
              "1    2    10-19          27      3.90%\n",
              "2    3    20-29         172     24.86%\n",
              "3    4    30-39         146     21.10%\n",
              "4    5    40-49         112     16.18%"
            ]
          },
          "metadata": {
            "tags": []
          },
          "execution_count": 4
        }
      ]
    },
    {
      "cell_type": "code",
      "metadata": {
        "id": "Ai1v30HCIQfu"
      },
      "source": [
        "age_group['Percentage'] = age_group['Percentage'].apply(lambda x: x.strip('%')).astype('float')"
      ],
      "execution_count": null,
      "outputs": []
    },
    {
      "cell_type": "code",
      "metadata": {
        "id": "pSuluUQEIQf0",
        "outputId": "8b728385-a909-4c0c-8cf1-0ae1d87502cd"
      },
      "source": [
        "age_group.head()"
      ],
      "execution_count": null,
      "outputs": [
        {
          "output_type": "execute_result",
          "data": {
            "text/html": [
              "<div>\n",
              "<style scoped>\n",
              "    .dataframe tbody tr th:only-of-type {\n",
              "        vertical-align: middle;\n",
              "    }\n",
              "\n",
              "    .dataframe tbody tr th {\n",
              "        vertical-align: top;\n",
              "    }\n",
              "\n",
              "    .dataframe thead th {\n",
              "        text-align: right;\n",
              "    }\n",
              "</style>\n",
              "<table border=\"1\" class=\"dataframe\">\n",
              "  <thead>\n",
              "    <tr style=\"text-align: right;\">\n",
              "      <th></th>\n",
              "      <th>Sno</th>\n",
              "      <th>AgeGroup</th>\n",
              "      <th>TotalCases</th>\n",
              "      <th>Percentage</th>\n",
              "    </tr>\n",
              "  </thead>\n",
              "  <tbody>\n",
              "    <tr>\n",
              "      <th>0</th>\n",
              "      <td>1</td>\n",
              "      <td>0-9</td>\n",
              "      <td>22</td>\n",
              "      <td>3.18</td>\n",
              "    </tr>\n",
              "    <tr>\n",
              "      <th>1</th>\n",
              "      <td>2</td>\n",
              "      <td>10-19</td>\n",
              "      <td>27</td>\n",
              "      <td>3.90</td>\n",
              "    </tr>\n",
              "    <tr>\n",
              "      <th>2</th>\n",
              "      <td>3</td>\n",
              "      <td>20-29</td>\n",
              "      <td>172</td>\n",
              "      <td>24.86</td>\n",
              "    </tr>\n",
              "    <tr>\n",
              "      <th>3</th>\n",
              "      <td>4</td>\n",
              "      <td>30-39</td>\n",
              "      <td>146</td>\n",
              "      <td>21.10</td>\n",
              "    </tr>\n",
              "    <tr>\n",
              "      <th>4</th>\n",
              "      <td>5</td>\n",
              "      <td>40-49</td>\n",
              "      <td>112</td>\n",
              "      <td>16.18</td>\n",
              "    </tr>\n",
              "  </tbody>\n",
              "</table>\n",
              "</div>"
            ],
            "text/plain": [
              "   Sno AgeGroup  TotalCases  Percentage\n",
              "0    1      0-9          22        3.18\n",
              "1    2    10-19          27        3.90\n",
              "2    3    20-29         172       24.86\n",
              "3    4    30-39         146       21.10\n",
              "4    5    40-49         112       16.18"
            ]
          },
          "metadata": {
            "tags": []
          },
          "execution_count": 6
        }
      ]
    },
    {
      "cell_type": "code",
      "metadata": {
        "id": "fynXjltqIQf7",
        "outputId": "2fc465bf-65b7-4800-cbe9-f4c88ad2d89d"
      },
      "source": [
        "age_group[age_group['TotalCases']==age_group['TotalCases'].max()] # most infected age group"
      ],
      "execution_count": null,
      "outputs": [
        {
          "output_type": "execute_result",
          "data": {
            "text/html": [
              "<div>\n",
              "<style scoped>\n",
              "    .dataframe tbody tr th:only-of-type {\n",
              "        vertical-align: middle;\n",
              "    }\n",
              "\n",
              "    .dataframe tbody tr th {\n",
              "        vertical-align: top;\n",
              "    }\n",
              "\n",
              "    .dataframe thead th {\n",
              "        text-align: right;\n",
              "    }\n",
              "</style>\n",
              "<table border=\"1\" class=\"dataframe\">\n",
              "  <thead>\n",
              "    <tr style=\"text-align: right;\">\n",
              "      <th></th>\n",
              "      <th>Sno</th>\n",
              "      <th>AgeGroup</th>\n",
              "      <th>TotalCases</th>\n",
              "      <th>Percentage</th>\n",
              "    </tr>\n",
              "  </thead>\n",
              "  <tbody>\n",
              "    <tr>\n",
              "      <th>2</th>\n",
              "      <td>3</td>\n",
              "      <td>20-29</td>\n",
              "      <td>172</td>\n",
              "      <td>24.86</td>\n",
              "    </tr>\n",
              "  </tbody>\n",
              "</table>\n",
              "</div>"
            ],
            "text/plain": [
              "   Sno AgeGroup  TotalCases  Percentage\n",
              "2    3    20-29         172       24.86"
            ]
          },
          "metadata": {
            "tags": []
          },
          "execution_count": 7
        }
      ]
    },
    {
      "cell_type": "markdown",
      "metadata": {
        "id": "zvGuZhIBIQgC"
      },
      "source": [
        "### Most infected age group: 20-29"
      ]
    },
    {
      "cell_type": "markdown",
      "metadata": {
        "id": "c1-eN0LDIQgD"
      },
      "source": [
        "### Part 2"
      ]
    },
    {
      "cell_type": "code",
      "metadata": {
        "id": "JQHxjhCVIQgE"
      },
      "source": [
        "covid_india = pd.read_csv('covid_19_india.csv')"
      ],
      "execution_count": null,
      "outputs": []
    },
    {
      "cell_type": "code",
      "metadata": {
        "id": "05ytMR2xIQgM"
      },
      "source": [
        "covid_india.head()\n",
        "covid_india.rename(columns={'State/UnionTerritory':'State/UT'},inplace = True)"
      ],
      "execution_count": null,
      "outputs": []
    },
    {
      "cell_type": "code",
      "metadata": {
        "id": "7od1tQoDIQgS",
        "outputId": "0cdc3145-ea76-444e-d747-499d886b80c8"
      },
      "source": [
        "covid_india.head()"
      ],
      "execution_count": null,
      "outputs": [
        {
          "output_type": "execute_result",
          "data": {
            "text/html": [
              "<div>\n",
              "<style scoped>\n",
              "    .dataframe tbody tr th:only-of-type {\n",
              "        vertical-align: middle;\n",
              "    }\n",
              "\n",
              "    .dataframe tbody tr th {\n",
              "        vertical-align: top;\n",
              "    }\n",
              "\n",
              "    .dataframe thead th {\n",
              "        text-align: right;\n",
              "    }\n",
              "</style>\n",
              "<table border=\"1\" class=\"dataframe\">\n",
              "  <thead>\n",
              "    <tr style=\"text-align: right;\">\n",
              "      <th></th>\n",
              "      <th>Sno</th>\n",
              "      <th>Date</th>\n",
              "      <th>Time</th>\n",
              "      <th>State/UT</th>\n",
              "      <th>ConfirmedIndianNational</th>\n",
              "      <th>ConfirmedForeignNational</th>\n",
              "      <th>Cured</th>\n",
              "      <th>Deaths</th>\n",
              "      <th>Confirmed</th>\n",
              "    </tr>\n",
              "  </thead>\n",
              "  <tbody>\n",
              "    <tr>\n",
              "      <th>0</th>\n",
              "      <td>1</td>\n",
              "      <td>2020-01-30</td>\n",
              "      <td>6:00 PM</td>\n",
              "      <td>Kerala</td>\n",
              "      <td>1</td>\n",
              "      <td>0</td>\n",
              "      <td>0</td>\n",
              "      <td>0</td>\n",
              "      <td>1</td>\n",
              "    </tr>\n",
              "    <tr>\n",
              "      <th>1</th>\n",
              "      <td>2</td>\n",
              "      <td>2020-01-31</td>\n",
              "      <td>6:00 PM</td>\n",
              "      <td>Kerala</td>\n",
              "      <td>1</td>\n",
              "      <td>0</td>\n",
              "      <td>0</td>\n",
              "      <td>0</td>\n",
              "      <td>1</td>\n",
              "    </tr>\n",
              "    <tr>\n",
              "      <th>2</th>\n",
              "      <td>3</td>\n",
              "      <td>2020-02-01</td>\n",
              "      <td>6:00 PM</td>\n",
              "      <td>Kerala</td>\n",
              "      <td>2</td>\n",
              "      <td>0</td>\n",
              "      <td>0</td>\n",
              "      <td>0</td>\n",
              "      <td>2</td>\n",
              "    </tr>\n",
              "    <tr>\n",
              "      <th>3</th>\n",
              "      <td>4</td>\n",
              "      <td>2020-02-02</td>\n",
              "      <td>6:00 PM</td>\n",
              "      <td>Kerala</td>\n",
              "      <td>3</td>\n",
              "      <td>0</td>\n",
              "      <td>0</td>\n",
              "      <td>0</td>\n",
              "      <td>3</td>\n",
              "    </tr>\n",
              "    <tr>\n",
              "      <th>4</th>\n",
              "      <td>5</td>\n",
              "      <td>2020-02-03</td>\n",
              "      <td>6:00 PM</td>\n",
              "      <td>Kerala</td>\n",
              "      <td>3</td>\n",
              "      <td>0</td>\n",
              "      <td>0</td>\n",
              "      <td>0</td>\n",
              "      <td>3</td>\n",
              "    </tr>\n",
              "  </tbody>\n",
              "</table>\n",
              "</div>"
            ],
            "text/plain": [
              "   Sno       Date     Time State/UT ConfirmedIndianNational  \\\n",
              "0    1 2020-01-30  6:00 PM   Kerala                       1   \n",
              "1    2 2020-01-31  6:00 PM   Kerala                       1   \n",
              "2    3 2020-02-01  6:00 PM   Kerala                       2   \n",
              "3    4 2020-02-02  6:00 PM   Kerala                       3   \n",
              "4    5 2020-02-03  6:00 PM   Kerala                       3   \n",
              "\n",
              "  ConfirmedForeignNational  Cured  Deaths  Confirmed  \n",
              "0                        0      0       0          1  \n",
              "1                        0      0       0          1  \n",
              "2                        0      0       0          2  \n",
              "3                        0      0       0          3  \n",
              "4                        0      0       0          3  "
            ]
          },
          "metadata": {
            "tags": []
          },
          "execution_count": 140
        }
      ]
    },
    {
      "cell_type": "code",
      "metadata": {
        "id": "t9NTeCM8IQgh"
      },
      "source": [
        "a = pd.DataFrame(covid_india.groupby(['State/UT'])['Deaths'].max())\n",
        "a.reset_index(inplace = True)\n",
        "a = a.sort_values('Deaths',ascending=False)\n",
        "\n",
        "b = pd.DataFrame(covid_india.groupby(['State/UT'])['Cured'].max())\n",
        "b.reset_index(inplace = True)\n",
        "b = b.sort_values('Cured',ascending=False)\n",
        "\n",
        "c = pd.DataFrame(covid_india.groupby(['State/UT'])['Confirmed'].max())\n",
        "c.reset_index(inplace = True)\n",
        "c = c.sort_values('Confirmed',ascending=False)"
      ],
      "execution_count": null,
      "outputs": []
    },
    {
      "cell_type": "code",
      "metadata": {
        "id": "7rdphdAqIQgn",
        "outputId": "00cbcd5a-062f-47ef-9ee1-a8155acfacd9"
      },
      "source": [
        "plt.figure(figsize=(20,20))\n",
        "plt.subplots_adjust(top = 0.99, bottom=0.01, hspace=0.8, wspace=0.4)\n",
        "plt.subplot(3,2,1)\n",
        "plot = sns.barplot(a['State/UT'],a['Deaths'])\n",
        "plot.set_xticklabels(plot.get_xticklabels(),rotation=90);\n",
        "plt.subplot(3,2,2)\n",
        "plot = sns.barplot(b['State/UT'],b['Cured'])\n",
        "plot.set_xticklabels(plot.get_xticklabels(),rotation=90);\n",
        "plt.subplot(3,2,3)\n",
        "plot = sns.barplot(c['State/UT'],c['Confirmed'])\n",
        "plot.set_xticklabels(plot.get_xticklabels(),rotation=90);"
      ],
      "execution_count": null,
      "outputs": [
        {
          "output_type": "display_data",
          "data": {
            "image/png": "[encoded data removed]",
            "text/plain": [
              "<Figure size 1440x1440 with 3 Axes>"
            ]
          },
          "metadata": {
            "tags": [],
            "needs_background": "light"
          }
        }
      ]
    },
    {
      "cell_type": "markdown",
      "metadata": {
        "id": "m_3xWb6MIQgt"
      },
      "source": [
        "### Part 3"
      ]
    },
    {
      "cell_type": "code",
      "metadata": {
        "id": "lx-WDmskIQgu"
      },
      "source": [
        "census = pd.read_csv('population_india_census2011.csv')"
      ],
      "execution_count": null,
      "outputs": []
    },
    {
      "cell_type": "code",
      "metadata": {
        "id": "WRw1C-1nIQg7"
      },
      "source": [
        "census['Density'] = census['Density'].apply(lambda x: x.split(\"/\")[0].replace(',',''))\n",
        "census.set_index('Sno',inplace=True)"
      ],
      "execution_count": null,
      "outputs": []
    },
    {
      "cell_type": "code",
      "metadata": {
        "id": "ZAQ1x2Y2IQhB"
      },
      "source": [
        "census.rename(columns={'State / Union Territory':\"State/UT\"},inplace=True)\n",
        "census['Density'] = census['Density'].astype('float')"
      ],
      "execution_count": null,
      "outputs": []
    },
    {
      "cell_type": "code",
      "metadata": {
        "id": "WVO0G7kWIQhH",
        "outputId": "0b9498e5-d4ba-40e5-86cc-ddefe440617e"
      },
      "source": [
        "census.head()"
      ],
      "execution_count": null,
      "outputs": [
        {
          "output_type": "execute_result",
          "data": {
            "text/html": [
              "<div>\n",
              "<style scoped>\n",
              "    .dataframe tbody tr th:only-of-type {\n",
              "        vertical-align: middle;\n",
              "    }\n",
              "\n",
              "    .dataframe tbody tr th {\n",
              "        vertical-align: top;\n",
              "    }\n",
              "\n",
              "    .dataframe thead th {\n",
              "        text-align: right;\n",
              "    }\n",
              "</style>\n",
              "<table border=\"1\" class=\"dataframe\">\n",
              "  <thead>\n",
              "    <tr style=\"text-align: right;\">\n",
              "      <th></th>\n",
              "      <th>State/UT</th>\n",
              "      <th>Population</th>\n",
              "      <th>Rural population</th>\n",
              "      <th>Urban population</th>\n",
              "      <th>Area</th>\n",
              "      <th>Density</th>\n",
              "      <th>Gender Ratio</th>\n",
              "    </tr>\n",
              "    <tr>\n",
              "      <th>Sno</th>\n",
              "      <th></th>\n",
              "      <th></th>\n",
              "      <th></th>\n",
              "      <th></th>\n",
              "      <th></th>\n",
              "      <th></th>\n",
              "      <th></th>\n",
              "    </tr>\n",
              "  </thead>\n",
              "  <tbody>\n",
              "    <tr>\n",
              "      <th>1</th>\n",
              "      <td>Uttar Pradesh</td>\n",
              "      <td>199812341</td>\n",
              "      <td>155317278</td>\n",
              "      <td>44495063</td>\n",
              "      <td>240,928 km2 (93,023 sq mi)</td>\n",
              "      <td>828.0</td>\n",
              "      <td>912</td>\n",
              "    </tr>\n",
              "    <tr>\n",
              "      <th>2</th>\n",
              "      <td>Maharashtra</td>\n",
              "      <td>112374333</td>\n",
              "      <td>61556074</td>\n",
              "      <td>50818259</td>\n",
              "      <td>307,713 km2 (118,809 sq mi)</td>\n",
              "      <td>365.0</td>\n",
              "      <td>929</td>\n",
              "    </tr>\n",
              "    <tr>\n",
              "      <th>3</th>\n",
              "      <td>Bihar</td>\n",
              "      <td>104099452</td>\n",
              "      <td>92341436</td>\n",
              "      <td>11758016</td>\n",
              "      <td>94,163 km2 (36,357 sq mi)</td>\n",
              "      <td>1102.0</td>\n",
              "      <td>918</td>\n",
              "    </tr>\n",
              "    <tr>\n",
              "      <th>4</th>\n",
              "      <td>West Bengal</td>\n",
              "      <td>91276115</td>\n",
              "      <td>62183113</td>\n",
              "      <td>29093002</td>\n",
              "      <td>88,752 km2 (34,267 sq mi)</td>\n",
              "      <td>1029.0</td>\n",
              "      <td>953</td>\n",
              "    </tr>\n",
              "    <tr>\n",
              "      <th>5</th>\n",
              "      <td>Madhya Pradesh</td>\n",
              "      <td>72626809</td>\n",
              "      <td>52557404</td>\n",
              "      <td>20069405</td>\n",
              "      <td>308,245 km2 (119,014 sq mi)</td>\n",
              "      <td>236.0</td>\n",
              "      <td>931</td>\n",
              "    </tr>\n",
              "  </tbody>\n",
              "</table>\n",
              "</div>"
            ],
            "text/plain": [
              "           State/UT  Population  Rural population  Urban population  \\\n",
              "Sno                                                                   \n",
              "1     Uttar Pradesh   199812341         155317278          44495063   \n",
              "2       Maharashtra   112374333          61556074          50818259   \n",
              "3             Bihar   104099452          92341436          11758016   \n",
              "4       West Bengal    91276115          62183113          29093002   \n",
              "5    Madhya Pradesh    72626809          52557404          20069405   \n",
              "\n",
              "                            Area  Density  Gender Ratio  \n",
              "Sno                                                      \n",
              "1     240,928 km2 (93,023 sq mi)    828.0           912  \n",
              "2    307,713 km2 (118,809 sq mi)    365.0           929  \n",
              "3      94,163 km2 (36,357 sq mi)   1102.0           918  \n",
              "4      88,752 km2 (34,267 sq mi)   1029.0           953  \n",
              "5    308,245 km2 (119,014 sq mi)    236.0           931  "
            ]
          },
          "metadata": {
            "tags": []
          },
          "execution_count": 17
        }
      ]
    },
    {
      "cell_type": "code",
      "metadata": {
        "id": "zSoRrrOFIQhO"
      },
      "source": [
        "cases = pd.pivot_table(a,index='State/UT',values='Confirmed')"
      ],
      "execution_count": null,
      "outputs": []
    },
    {
      "cell_type": "code",
      "metadata": {
        "id": "4M7ffHXVIQhU"
      },
      "source": [
        "density = pd.pivot_table(census,index='State/UT',values='Density')"
      ],
      "execution_count": null,
      "outputs": []
    },
    {
      "cell_type": "code",
      "metadata": {
        "id": "_7TGxQKpIQhZ"
      },
      "source": [
        "intensity = cases['Confirmed']/density['Density']"
      ],
      "execution_count": null,
      "outputs": []
    },
    {
      "cell_type": "code",
      "metadata": {
        "id": "bZrnJYRsIQhe"
      },
      "source": [
        "cases['Density'] = density['Density']"
      ],
      "execution_count": null,
      "outputs": []
    },
    {
      "cell_type": "code",
      "metadata": {
        "id": "rd1EyWENIQhk"
      },
      "source": [
        "cases['Intensity'] = cases['Confirmed']/cases['Density']"
      ],
      "execution_count": null,
      "outputs": []
    },
    {
      "cell_type": "code",
      "metadata": {
        "id": "WYdkOm2vIQhq"
      },
      "source": [
        "cases = cases.dropna()"
      ],
      "execution_count": null,
      "outputs": []
    },
    {
      "cell_type": "code",
      "metadata": {
        "id": "4N_gPo7FIQhx"
      },
      "source": [
        "cases = cases.sort_values('Confirmed',ascending=False).reset_index()"
      ],
      "execution_count": null,
      "outputs": []
    },
    {
      "cell_type": "code",
      "metadata": {
        "id": "law6bzv5IQh3",
        "outputId": "54e079c9-8232-4336-b739-6fc7bae0398b"
      },
      "source": [
        "cases"
      ],
      "execution_count": null,
      "outputs": [
        {
          "output_type": "execute_result",
          "data": {
            "text/html": [
              "<div>\n",
              "<style scoped>\n",
              "    .dataframe tbody tr th:only-of-type {\n",
              "        vertical-align: middle;\n",
              "    }\n",
              "\n",
              "    .dataframe tbody tr th {\n",
              "        vertical-align: top;\n",
              "    }\n",
              "\n",
              "    .dataframe thead th {\n",
              "        text-align: right;\n",
              "    }\n",
              "</style>\n",
              "<table border=\"1\" class=\"dataframe\">\n",
              "  <thead>\n",
              "    <tr style=\"text-align: right;\">\n",
              "      <th></th>\n",
              "      <th>State/UT</th>\n",
              "      <th>Confirmed</th>\n",
              "      <th>Density</th>\n",
              "      <th>Intensity</th>\n",
              "    </tr>\n",
              "  </thead>\n",
              "  <tbody>\n",
              "    <tr>\n",
              "      <th>0</th>\n",
              "      <td>Maharashtra</td>\n",
              "      <td>748</td>\n",
              "      <td>365.0</td>\n",
              "      <td>2.049315</td>\n",
              "    </tr>\n",
              "    <tr>\n",
              "      <th>1</th>\n",
              "      <td>Tamil Nadu</td>\n",
              "      <td>621</td>\n",
              "      <td>555.0</td>\n",
              "      <td>1.118919</td>\n",
              "    </tr>\n",
              "    <tr>\n",
              "      <th>2</th>\n",
              "      <td>Delhi</td>\n",
              "      <td>523</td>\n",
              "      <td>11297.0</td>\n",
              "      <td>0.046295</td>\n",
              "    </tr>\n",
              "    <tr>\n",
              "      <th>3</th>\n",
              "      <td>Kerala</td>\n",
              "      <td>327</td>\n",
              "      <td>859.0</td>\n",
              "      <td>0.380675</td>\n",
              "    </tr>\n",
              "    <tr>\n",
              "      <th>4</th>\n",
              "      <td>Telengana</td>\n",
              "      <td>321</td>\n",
              "      <td>312.0</td>\n",
              "      <td>1.028846</td>\n",
              "    </tr>\n",
              "    <tr>\n",
              "      <th>5</th>\n",
              "      <td>Uttar Pradesh</td>\n",
              "      <td>305</td>\n",
              "      <td>828.0</td>\n",
              "      <td>0.368357</td>\n",
              "    </tr>\n",
              "    <tr>\n",
              "      <th>6</th>\n",
              "      <td>Rajasthan</td>\n",
              "      <td>288</td>\n",
              "      <td>201.0</td>\n",
              "      <td>1.432836</td>\n",
              "    </tr>\n",
              "    <tr>\n",
              "      <th>7</th>\n",
              "      <td>Andhra Pradesh</td>\n",
              "      <td>266</td>\n",
              "      <td>303.0</td>\n",
              "      <td>0.877888</td>\n",
              "    </tr>\n",
              "    <tr>\n",
              "      <th>8</th>\n",
              "      <td>Madhya Pradesh</td>\n",
              "      <td>165</td>\n",
              "      <td>236.0</td>\n",
              "      <td>0.699153</td>\n",
              "    </tr>\n",
              "    <tr>\n",
              "      <th>9</th>\n",
              "      <td>Karnataka</td>\n",
              "      <td>151</td>\n",
              "      <td>319.0</td>\n",
              "      <td>0.473354</td>\n",
              "    </tr>\n",
              "    <tr>\n",
              "      <th>10</th>\n",
              "      <td>Gujarat</td>\n",
              "      <td>144</td>\n",
              "      <td>308.0</td>\n",
              "      <td>0.467532</td>\n",
              "    </tr>\n",
              "    <tr>\n",
              "      <th>11</th>\n",
              "      <td>Jammu and Kashmir</td>\n",
              "      <td>109</td>\n",
              "      <td>98.0</td>\n",
              "      <td>1.112245</td>\n",
              "    </tr>\n",
              "    <tr>\n",
              "      <th>12</th>\n",
              "      <td>West Bengal</td>\n",
              "      <td>91</td>\n",
              "      <td>1029.0</td>\n",
              "      <td>0.088435</td>\n",
              "    </tr>\n",
              "    <tr>\n",
              "      <th>13</th>\n",
              "      <td>Haryana</td>\n",
              "      <td>90</td>\n",
              "      <td>573.0</td>\n",
              "      <td>0.157068</td>\n",
              "    </tr>\n",
              "    <tr>\n",
              "      <th>14</th>\n",
              "      <td>Punjab</td>\n",
              "      <td>76</td>\n",
              "      <td>550.0</td>\n",
              "      <td>0.138182</td>\n",
              "    </tr>\n",
              "    <tr>\n",
              "      <th>15</th>\n",
              "      <td>Bihar</td>\n",
              "      <td>32</td>\n",
              "      <td>1102.0</td>\n",
              "      <td>0.029038</td>\n",
              "    </tr>\n",
              "    <tr>\n",
              "      <th>16</th>\n",
              "      <td>Uttarakhand</td>\n",
              "      <td>31</td>\n",
              "      <td>189.0</td>\n",
              "      <td>0.164021</td>\n",
              "    </tr>\n",
              "    <tr>\n",
              "      <th>17</th>\n",
              "      <td>Assam</td>\n",
              "      <td>26</td>\n",
              "      <td>397.0</td>\n",
              "      <td>0.065491</td>\n",
              "    </tr>\n",
              "    <tr>\n",
              "      <th>18</th>\n",
              "      <td>Odisha</td>\n",
              "      <td>21</td>\n",
              "      <td>269.0</td>\n",
              "      <td>0.078067</td>\n",
              "    </tr>\n",
              "    <tr>\n",
              "      <th>19</th>\n",
              "      <td>Chandigarh</td>\n",
              "      <td>18</td>\n",
              "      <td>9252.0</td>\n",
              "      <td>0.001946</td>\n",
              "    </tr>\n",
              "    <tr>\n",
              "      <th>20</th>\n",
              "      <td>Ladakh</td>\n",
              "      <td>14</td>\n",
              "      <td>2.8</td>\n",
              "      <td>5.000000</td>\n",
              "    </tr>\n",
              "    <tr>\n",
              "      <th>21</th>\n",
              "      <td>Himachal Pradesh</td>\n",
              "      <td>13</td>\n",
              "      <td>123.0</td>\n",
              "      <td>0.105691</td>\n",
              "    </tr>\n",
              "    <tr>\n",
              "      <th>22</th>\n",
              "      <td>Andaman and Nicobar Islands</td>\n",
              "      <td>10</td>\n",
              "      <td>46.0</td>\n",
              "      <td>0.217391</td>\n",
              "    </tr>\n",
              "    <tr>\n",
              "      <th>23</th>\n",
              "      <td>Chhattisgarh</td>\n",
              "      <td>10</td>\n",
              "      <td>189.0</td>\n",
              "      <td>0.052910</td>\n",
              "    </tr>\n",
              "    <tr>\n",
              "      <th>24</th>\n",
              "      <td>Goa</td>\n",
              "      <td>7</td>\n",
              "      <td>394.0</td>\n",
              "      <td>0.017766</td>\n",
              "    </tr>\n",
              "    <tr>\n",
              "      <th>25</th>\n",
              "      <td>Puducherry</td>\n",
              "      <td>5</td>\n",
              "      <td>2598.0</td>\n",
              "      <td>0.001925</td>\n",
              "    </tr>\n",
              "    <tr>\n",
              "      <th>26</th>\n",
              "      <td>Jharkhand</td>\n",
              "      <td>4</td>\n",
              "      <td>414.0</td>\n",
              "      <td>0.009662</td>\n",
              "    </tr>\n",
              "    <tr>\n",
              "      <th>27</th>\n",
              "      <td>Manipur</td>\n",
              "      <td>2</td>\n",
              "      <td>122.0</td>\n",
              "      <td>0.016393</td>\n",
              "    </tr>\n",
              "    <tr>\n",
              "      <th>28</th>\n",
              "      <td>Mizoram</td>\n",
              "      <td>1</td>\n",
              "      <td>52.0</td>\n",
              "      <td>0.019231</td>\n",
              "    </tr>\n",
              "    <tr>\n",
              "      <th>29</th>\n",
              "      <td>Tripura</td>\n",
              "      <td>1</td>\n",
              "      <td>350.0</td>\n",
              "      <td>0.002857</td>\n",
              "    </tr>\n",
              "    <tr>\n",
              "      <th>30</th>\n",
              "      <td>Arunachal Pradesh</td>\n",
              "      <td>1</td>\n",
              "      <td>17.0</td>\n",
              "      <td>0.058824</td>\n",
              "    </tr>\n",
              "  </tbody>\n",
              "</table>\n",
              "</div>"
            ],
            "text/plain": [
              "                       State/UT  Confirmed  Density  Intensity\n",
              "0                   Maharashtra        748    365.0   2.049315\n",
              "1                    Tamil Nadu        621    555.0   1.118919\n",
              "2                         Delhi        523  11297.0   0.046295\n",
              "3                        Kerala        327    859.0   0.380675\n",
              "4                     Telengana        321    312.0   1.028846\n",
              "5                 Uttar Pradesh        305    828.0   0.368357\n",
              "6                     Rajasthan        288    201.0   1.432836\n",
              "7                Andhra Pradesh        266    303.0   0.877888\n",
              "8                Madhya Pradesh        165    236.0   0.699153\n",
              "9                     Karnataka        151    319.0   0.473354\n",
              "10                      Gujarat        144    308.0   0.467532\n",
              "11            Jammu and Kashmir        109     98.0   1.112245\n",
              "12                  West Bengal         91   1029.0   0.088435\n",
              "13                      Haryana         90    573.0   0.157068\n",
              "14                       Punjab         76    550.0   0.138182\n",
              "15                        Bihar         32   1102.0   0.029038\n",
              "16                  Uttarakhand         31    189.0   0.164021\n",
              "17                        Assam         26    397.0   0.065491\n",
              "18                       Odisha         21    269.0   0.078067\n",
              "19                   Chandigarh         18   9252.0   0.001946\n",
              "20                       Ladakh         14      2.8   5.000000\n",
              "21             Himachal Pradesh         13    123.0   0.105691\n",
              "22  Andaman and Nicobar Islands         10     46.0   0.217391\n",
              "23                 Chhattisgarh         10    189.0   0.052910\n",
              "24                          Goa          7    394.0   0.017766\n",
              "25                   Puducherry          5   2598.0   0.001925\n",
              "26                    Jharkhand          4    414.0   0.009662\n",
              "27                      Manipur          2    122.0   0.016393\n",
              "28                      Mizoram          1     52.0   0.019231\n",
              "29                      Tripura          1    350.0   0.002857\n",
              "30            Arunachal Pradesh          1     17.0   0.058824"
            ]
          },
          "metadata": {
            "tags": []
          },
          "execution_count": 25
        }
      ]
    },
    {
      "cell_type": "code",
      "metadata": {
        "id": "ROwsobuIIQh9",
        "outputId": "9eccdec1-8441-4830-cb4e-a90a9ce29567"
      },
      "source": [
        "sorted_cases = cases.sort_values('Intensity',ascending=False).reset_index()\n",
        "plt.figure(figsize=(10,8))\n",
        "plot1 = sns.barplot(x=sorted_cases['State/UT'],y=sorted_cases['Intensity'])\n",
        "plot1.set_xticklabels(plot1.get_xticklabels(),rotation=90);\n"
      ],
      "execution_count": null,
      "outputs": [
        {
          "output_type": "display_data",
          "data": {
            "image/png": "[encoded data removed]",
            "text/plain": [
              "<Figure size 720x576 with 1 Axes>"
            ]
          },
          "metadata": {
            "tags": [],
            "needs_background": "light"
          }
        }
      ]
    },
    {
      "cell_type": "markdown",
      "metadata": {
        "id": "tkEiYJ_-IQiD"
      },
      "source": [
        "### Part 4"
      ]
    },
    {
      "cell_type": "code",
      "metadata": {
        "id": "wml9v5p4IQiE"
      },
      "source": [
        "IndividualDetails = pd.read_csv('IndividualDetails.csv')"
      ],
      "execution_count": null,
      "outputs": []
    },
    {
      "cell_type": "code",
      "metadata": {
        "id": "lrqulscAIQiL"
      },
      "source": [
        "IndividualDetails['diagnosed_date'] = pd.to_datetime(IndividualDetails['diagnosed_date'])\n",
        "IndividualDetails['status_change_date'] = pd.to_datetime(IndividualDetails['status_change_date'])"
      ],
      "execution_count": null,
      "outputs": []
    },
    {
      "cell_type": "code",
      "metadata": {
        "id": "LFq52wqLIQiT",
        "outputId": "8a4bca7b-8011-4b30-c84b-d5e99704c6c8"
      },
      "source": [
        "IndividualDetails.head(2)"
      ],
      "execution_count": null,
      "outputs": [
        {
          "output_type": "execute_result",
          "data": {
            "text/html": [
              "<div>\n",
              "<style scoped>\n",
              "    .dataframe tbody tr th:only-of-type {\n",
              "        vertical-align: middle;\n",
              "    }\n",
              "\n",
              "    .dataframe tbody tr th {\n",
              "        vertical-align: top;\n",
              "    }\n",
              "\n",
              "    .dataframe thead th {\n",
              "        text-align: right;\n",
              "    }\n",
              "</style>\n",
              "<table border=\"1\" class=\"dataframe\">\n",
              "  <thead>\n",
              "    <tr style=\"text-align: right;\">\n",
              "      <th></th>\n",
              "      <th>id</th>\n",
              "      <th>government_id</th>\n",
              "      <th>diagnosed_date</th>\n",
              "      <th>age</th>\n",
              "      <th>gender</th>\n",
              "      <th>detected_city</th>\n",
              "      <th>detected_district</th>\n",
              "      <th>detected_state</th>\n",
              "      <th>nationality</th>\n",
              "      <th>current_status</th>\n",
              "      <th>status_change_date</th>\n",
              "      <th>notes</th>\n",
              "    </tr>\n",
              "  </thead>\n",
              "  <tbody>\n",
              "    <tr>\n",
              "      <th>0</th>\n",
              "      <td>0</td>\n",
              "      <td>KL-TS-P1</td>\n",
              "      <td>2020-01-30</td>\n",
              "      <td>20</td>\n",
              "      <td>F</td>\n",
              "      <td>Thrissur</td>\n",
              "      <td>Thrissur</td>\n",
              "      <td>Kerala</td>\n",
              "      <td>India</td>\n",
              "      <td>Recovered</td>\n",
              "      <td>2020-02-14</td>\n",
              "      <td>Travelled from Wuhan</td>\n",
              "    </tr>\n",
              "    <tr>\n",
              "      <th>1</th>\n",
              "      <td>1</td>\n",
              "      <td>KL-AL-P1</td>\n",
              "      <td>2020-02-02</td>\n",
              "      <td>NaN</td>\n",
              "      <td>NaN</td>\n",
              "      <td>Alappuzha</td>\n",
              "      <td>Alappuzha</td>\n",
              "      <td>Kerala</td>\n",
              "      <td>India</td>\n",
              "      <td>Recovered</td>\n",
              "      <td>2020-02-14</td>\n",
              "      <td>Travelled from Wuhan</td>\n",
              "    </tr>\n",
              "  </tbody>\n",
              "</table>\n",
              "</div>"
            ],
            "text/plain": [
              "   id government_id diagnosed_date  age gender detected_city  \\\n",
              "0   0      KL-TS-P1     2020-01-30   20      F      Thrissur   \n",
              "1   1      KL-AL-P1     2020-02-02  NaN    NaN     Alappuzha   \n",
              "\n",
              "  detected_district detected_state nationality current_status  \\\n",
              "0          Thrissur         Kerala       India      Recovered   \n",
              "1         Alappuzha         Kerala       India      Recovered   \n",
              "\n",
              "  status_change_date                 notes  \n",
              "0         2020-02-14  Travelled from Wuhan  \n",
              "1         2020-02-14  Travelled from Wuhan  "
            ]
          },
          "metadata": {
            "tags": []
          },
          "execution_count": 19
        }
      ]
    },
    {
      "cell_type": "code",
      "metadata": {
        "id": "qcQLOiDuIQiZ"
      },
      "source": [
        "IndividualDetails = IndividualDetails.replace('Ahmadabad','Ahmedabad')"
      ],
      "execution_count": null,
      "outputs": []
    },
    {
      "cell_type": "code",
      "metadata": {
        "id": "Hj2CcL_mIQif"
      },
      "source": [
        "data = IndividualDetails.groupby(['detected_city'])['current_status'].count().to_frame()"
      ],
      "execution_count": null,
      "outputs": []
    },
    {
      "cell_type": "code",
      "metadata": {
        "id": "3YKknAjBIQik"
      },
      "source": [
        "data = data.sort_values(['current_status'],ascending = False)"
      ],
      "execution_count": null,
      "outputs": []
    },
    {
      "cell_type": "code",
      "metadata": {
        "id": "wEW4vNuWIQis"
      },
      "source": [
        "hot_spots = data[data['current_status']>=10].reset_index() # city wise Hot Spots"
      ],
      "execution_count": null,
      "outputs": []
    },
    {
      "cell_type": "code",
      "metadata": {
        "id": "Cm-CO7J3IQiw"
      },
      "source": [
        "hot_spots.rename(columns = {'detected_city': 'City','current_status':'No. of Cases'},inplace=True)"
      ],
      "execution_count": null,
      "outputs": []
    },
    {
      "cell_type": "code",
      "metadata": {
        "id": "27_9e1T1IQi2",
        "outputId": "e4cce016-9362-47ba-fce4-9e7d94691b35"
      },
      "source": [
        "hot_spots"
      ],
      "execution_count": null,
      "outputs": [
        {
          "output_type": "execute_result",
          "data": {
            "text/html": [
              "<div>\n",
              "<style scoped>\n",
              "    .dataframe tbody tr th:only-of-type {\n",
              "        vertical-align: middle;\n",
              "    }\n",
              "\n",
              "    .dataframe tbody tr th {\n",
              "        vertical-align: top;\n",
              "    }\n",
              "\n",
              "    .dataframe thead th {\n",
              "        text-align: right;\n",
              "    }\n",
              "</style>\n",
              "<table border=\"1\" class=\"dataframe\">\n",
              "  <thead>\n",
              "    <tr style=\"text-align: right;\">\n",
              "      <th></th>\n",
              "      <th>City</th>\n",
              "      <th>No. of Cases</th>\n",
              "    </tr>\n",
              "  </thead>\n",
              "  <tbody>\n",
              "    <tr>\n",
              "      <th>0</th>\n",
              "      <td>Mumbai</td>\n",
              "      <td>67</td>\n",
              "    </tr>\n",
              "    <tr>\n",
              "      <th>1</th>\n",
              "      <td>Bengaluru</td>\n",
              "      <td>41</td>\n",
              "    </tr>\n",
              "    <tr>\n",
              "      <th>2</th>\n",
              "      <td>Kasaragod</td>\n",
              "      <td>26</td>\n",
              "    </tr>\n",
              "    <tr>\n",
              "      <th>3</th>\n",
              "      <td>Pune</td>\n",
              "      <td>25</td>\n",
              "    </tr>\n",
              "    <tr>\n",
              "      <th>4</th>\n",
              "      <td>Ahmedabad</td>\n",
              "      <td>24</td>\n",
              "    </tr>\n",
              "    <tr>\n",
              "      <th>5</th>\n",
              "      <td>Nizamuddin area</td>\n",
              "      <td>24</td>\n",
              "    </tr>\n",
              "    <tr>\n",
              "      <th>6</th>\n",
              "      <td>Hyderabad</td>\n",
              "      <td>23</td>\n",
              "    </tr>\n",
              "    <tr>\n",
              "      <th>7</th>\n",
              "      <td>Mettupalayam</td>\n",
              "      <td>20</td>\n",
              "    </tr>\n",
              "    <tr>\n",
              "      <th>8</th>\n",
              "      <td>Bhilwara</td>\n",
              "      <td>19</td>\n",
              "    </tr>\n",
              "    <tr>\n",
              "      <th>9</th>\n",
              "      <td>Perundurai</td>\n",
              "      <td>17</td>\n",
              "    </tr>\n",
              "    <tr>\n",
              "      <th>10</th>\n",
              "      <td>Gurugram</td>\n",
              "      <td>17</td>\n",
              "    </tr>\n",
              "    <tr>\n",
              "      <th>11</th>\n",
              "      <td>Bodi</td>\n",
              "      <td>13</td>\n",
              "    </tr>\n",
              "    <tr>\n",
              "      <th>12</th>\n",
              "      <td>Noida</td>\n",
              "      <td>12</td>\n",
              "    </tr>\n",
              "  </tbody>\n",
              "</table>\n",
              "</div>"
            ],
            "text/plain": [
              "               City  No. of Cases\n",
              "0            Mumbai            67\n",
              "1         Bengaluru            41\n",
              "2         Kasaragod            26\n",
              "3              Pune            25\n",
              "4         Ahmedabad            24\n",
              "5   Nizamuddin area            24\n",
              "6         Hyderabad            23\n",
              "7      Mettupalayam            20\n",
              "8          Bhilwara            19\n",
              "9        Perundurai            17\n",
              "10         Gurugram            17\n",
              "11             Bodi            13\n",
              "12            Noida            12"
            ]
          },
          "metadata": {
            "tags": []
          },
          "execution_count": 25
        }
      ]
    },
    {
      "cell_type": "markdown",
      "metadata": {
        "id": "lsAqj5X_IQi7"
      },
      "source": [
        "### Part 5"
      ]
    },
    {
      "cell_type": "code",
      "metadata": {
        "id": "d6eV4VkdIQi8"
      },
      "source": [
        "# filtering data date wise"
      ],
      "execution_count": null,
      "outputs": []
    },
    {
      "cell_type": "code",
      "metadata": {
        "id": "cIW_HHrmIQjC",
        "outputId": "4e6d35aa-ffc4-47a0-f888-c497ffc4ede4"
      },
      "source": [
        "IndividualDetails.head(3)"
      ],
      "execution_count": null,
      "outputs": [
        {
          "output_type": "execute_result",
          "data": {
            "text/html": [
              "<div>\n",
              "<style scoped>\n",
              "    .dataframe tbody tr th:only-of-type {\n",
              "        vertical-align: middle;\n",
              "    }\n",
              "\n",
              "    .dataframe tbody tr th {\n",
              "        vertical-align: top;\n",
              "    }\n",
              "\n",
              "    .dataframe thead th {\n",
              "        text-align: right;\n",
              "    }\n",
              "</style>\n",
              "<table border=\"1\" class=\"dataframe\">\n",
              "  <thead>\n",
              "    <tr style=\"text-align: right;\">\n",
              "      <th></th>\n",
              "      <th>id</th>\n",
              "      <th>government_id</th>\n",
              "      <th>diagnosed_date</th>\n",
              "      <th>age</th>\n",
              "      <th>gender</th>\n",
              "      <th>detected_city</th>\n",
              "      <th>detected_district</th>\n",
              "      <th>detected_state</th>\n",
              "      <th>nationality</th>\n",
              "      <th>current_status</th>\n",
              "      <th>status_change_date</th>\n",
              "      <th>notes</th>\n",
              "    </tr>\n",
              "  </thead>\n",
              "  <tbody>\n",
              "    <tr>\n",
              "      <th>0</th>\n",
              "      <td>0</td>\n",
              "      <td>KL-TS-P1</td>\n",
              "      <td>2020-01-30</td>\n",
              "      <td>20</td>\n",
              "      <td>F</td>\n",
              "      <td>Thrissur</td>\n",
              "      <td>Thrissur</td>\n",
              "      <td>Kerala</td>\n",
              "      <td>India</td>\n",
              "      <td>Recovered</td>\n",
              "      <td>2020-02-14</td>\n",
              "      <td>Travelled from Wuhan</td>\n",
              "    </tr>\n",
              "    <tr>\n",
              "      <th>1</th>\n",
              "      <td>1</td>\n",
              "      <td>KL-AL-P1</td>\n",
              "      <td>2020-02-02</td>\n",
              "      <td>NaN</td>\n",
              "      <td>NaN</td>\n",
              "      <td>Alappuzha</td>\n",
              "      <td>Alappuzha</td>\n",
              "      <td>Kerala</td>\n",
              "      <td>India</td>\n",
              "      <td>Recovered</td>\n",
              "      <td>2020-02-14</td>\n",
              "      <td>Travelled from Wuhan</td>\n",
              "    </tr>\n",
              "    <tr>\n",
              "      <th>2</th>\n",
              "      <td>2</td>\n",
              "      <td>KL-KS-P1</td>\n",
              "      <td>2020-03-02</td>\n",
              "      <td>NaN</td>\n",
              "      <td>NaN</td>\n",
              "      <td>Kasaragod</td>\n",
              "      <td>Kasaragod</td>\n",
              "      <td>Kerala</td>\n",
              "      <td>India</td>\n",
              "      <td>Recovered</td>\n",
              "      <td>2020-02-14</td>\n",
              "      <td>Travelled from Wuhan</td>\n",
              "    </tr>\n",
              "  </tbody>\n",
              "</table>\n",
              "</div>"
            ],
            "text/plain": [
              "   id government_id diagnosed_date  age gender detected_city  \\\n",
              "0   0      KL-TS-P1     2020-01-30   20      F      Thrissur   \n",
              "1   1      KL-AL-P1     2020-02-02  NaN    NaN     Alappuzha   \n",
              "2   2      KL-KS-P1     2020-03-02  NaN    NaN     Kasaragod   \n",
              "\n",
              "  detected_district detected_state nationality current_status  \\\n",
              "0          Thrissur         Kerala       India      Recovered   \n",
              "1         Alappuzha         Kerala       India      Recovered   \n",
              "2         Kasaragod         Kerala       India      Recovered   \n",
              "\n",
              "  status_change_date                 notes  \n",
              "0         2020-02-14  Travelled from Wuhan  \n",
              "1         2020-02-14  Travelled from Wuhan  \n",
              "2         2020-02-14  Travelled from Wuhan  "
            ]
          },
          "metadata": {
            "tags": []
          },
          "execution_count": 27
        }
      ]
    },
    {
      "cell_type": "code",
      "metadata": {
        "id": "k9X1lK99IQjH",
        "outputId": "108efb97-7974-41f4-bea7-c250f7c089bf"
      },
      "source": [
        "IndividualDetails['current_status'].value_counts()"
      ],
      "execution_count": null,
      "outputs": [
        {
          "output_type": "execute_result",
          "data": {
            "text/plain": [
              "Hospitalized    3557\n",
              "Recovered         89\n",
              "Deceased          24\n",
              "Migrated           1\n",
              "Name: current_status, dtype: int64"
            ]
          },
          "metadata": {
            "tags": []
          },
          "execution_count": 28
        }
      ]
    },
    {
      "cell_type": "code",
      "metadata": {
        "id": "JRr3iUTAIQjO"
      },
      "source": [
        "startdate,enddate = '2020-03-20','2020-04-10'"
      ],
      "execution_count": null,
      "outputs": []
    },
    {
      "cell_type": "code",
      "metadata": {
        "id": "v041444GIQjT"
      },
      "source": [
        "filter1 = IndividualDetails[(IndividualDetails['status_change_date']>=startdate)&(IndividualDetails['status_change_date']<=enddate)]"
      ],
      "execution_count": null,
      "outputs": []
    },
    {
      "cell_type": "code",
      "metadata": {
        "scrolled": true,
        "id": "4H0yfuclIQjZ",
        "outputId": "edbf0caf-79a4-4900-eeb2-05508f64d4fa"
      },
      "source": [
        "filter1.head()"
      ],
      "execution_count": null,
      "outputs": [
        {
          "output_type": "execute_result",
          "data": {
            "text/html": [
              "<div>\n",
              "<style scoped>\n",
              "    .dataframe tbody tr th:only-of-type {\n",
              "        vertical-align: middle;\n",
              "    }\n",
              "\n",
              "    .dataframe tbody tr th {\n",
              "        vertical-align: top;\n",
              "    }\n",
              "\n",
              "    .dataframe thead th {\n",
              "        text-align: right;\n",
              "    }\n",
              "</style>\n",
              "<table border=\"1\" class=\"dataframe\">\n",
              "  <thead>\n",
              "    <tr style=\"text-align: right;\">\n",
              "      <th></th>\n",
              "      <th>id</th>\n",
              "      <th>government_id</th>\n",
              "      <th>diagnosed_date</th>\n",
              "      <th>age</th>\n",
              "      <th>gender</th>\n",
              "      <th>detected_city</th>\n",
              "      <th>detected_district</th>\n",
              "      <th>detected_state</th>\n",
              "      <th>nationality</th>\n",
              "      <th>current_status</th>\n",
              "      <th>status_change_date</th>\n",
              "      <th>notes</th>\n",
              "    </tr>\n",
              "  </thead>\n",
              "  <tbody>\n",
              "    <tr>\n",
              "      <th>6</th>\n",
              "      <td>6</td>\n",
              "      <td>NaN</td>\n",
              "      <td>2020-04-03</td>\n",
              "      <td>55</td>\n",
              "      <td>NaN</td>\n",
              "      <td>Gurugram</td>\n",
              "      <td>Gurugram</td>\n",
              "      <td>Haryana</td>\n",
              "      <td>Italy</td>\n",
              "      <td>Recovered</td>\n",
              "      <td>2020-03-29</td>\n",
              "      <td>Travelled from Italy</td>\n",
              "    </tr>\n",
              "    <tr>\n",
              "      <th>7</th>\n",
              "      <td>7</td>\n",
              "      <td>NaN</td>\n",
              "      <td>2020-04-03</td>\n",
              "      <td>55</td>\n",
              "      <td>NaN</td>\n",
              "      <td>Gurugram</td>\n",
              "      <td>Gurugram</td>\n",
              "      <td>Haryana</td>\n",
              "      <td>Italy</td>\n",
              "      <td>Recovered</td>\n",
              "      <td>2020-03-29</td>\n",
              "      <td>Travelled from Italy</td>\n",
              "    </tr>\n",
              "    <tr>\n",
              "      <th>8</th>\n",
              "      <td>8</td>\n",
              "      <td>NaN</td>\n",
              "      <td>2020-04-03</td>\n",
              "      <td>55</td>\n",
              "      <td>NaN</td>\n",
              "      <td>Gurugram</td>\n",
              "      <td>Gurugram</td>\n",
              "      <td>Haryana</td>\n",
              "      <td>Italy</td>\n",
              "      <td>Recovered</td>\n",
              "      <td>2020-03-29</td>\n",
              "      <td>Travelled from Italy</td>\n",
              "    </tr>\n",
              "    <tr>\n",
              "      <th>9</th>\n",
              "      <td>9</td>\n",
              "      <td>NaN</td>\n",
              "      <td>2020-04-03</td>\n",
              "      <td>55</td>\n",
              "      <td>NaN</td>\n",
              "      <td>Gurugram</td>\n",
              "      <td>Gurugram</td>\n",
              "      <td>Haryana</td>\n",
              "      <td>Italy</td>\n",
              "      <td>Recovered</td>\n",
              "      <td>2020-03-29</td>\n",
              "      <td>Travelled from Italy</td>\n",
              "    </tr>\n",
              "    <tr>\n",
              "      <th>10</th>\n",
              "      <td>10</td>\n",
              "      <td>NaN</td>\n",
              "      <td>2020-04-03</td>\n",
              "      <td>55</td>\n",
              "      <td>NaN</td>\n",
              "      <td>Gurugram</td>\n",
              "      <td>Gurugram</td>\n",
              "      <td>Haryana</td>\n",
              "      <td>Italy</td>\n",
              "      <td>Recovered</td>\n",
              "      <td>2020-03-29</td>\n",
              "      <td>Travelled from Italy</td>\n",
              "    </tr>\n",
              "  </tbody>\n",
              "</table>\n",
              "</div>"
            ],
            "text/plain": [
              "    id government_id diagnosed_date age gender detected_city  \\\n",
              "6    6           NaN     2020-04-03  55    NaN      Gurugram   \n",
              "7    7           NaN     2020-04-03  55    NaN      Gurugram   \n",
              "8    8           NaN     2020-04-03  55    NaN      Gurugram   \n",
              "9    9           NaN     2020-04-03  55    NaN      Gurugram   \n",
              "10  10           NaN     2020-04-03  55    NaN      Gurugram   \n",
              "\n",
              "   detected_district detected_state nationality current_status  \\\n",
              "6           Gurugram        Haryana       Italy      Recovered   \n",
              "7           Gurugram        Haryana       Italy      Recovered   \n",
              "8           Gurugram        Haryana       Italy      Recovered   \n",
              "9           Gurugram        Haryana       Italy      Recovered   \n",
              "10          Gurugram        Haryana       Italy      Recovered   \n",
              "\n",
              "   status_change_date                 notes  \n",
              "6          2020-03-29  Travelled from Italy  \n",
              "7          2020-03-29  Travelled from Italy  \n",
              "8          2020-03-29  Travelled from Italy  \n",
              "9          2020-03-29  Travelled from Italy  \n",
              "10         2020-03-29  Travelled from Italy  "
            ]
          },
          "metadata": {
            "tags": []
          },
          "execution_count": 31
        }
      ]
    },
    {
      "cell_type": "code",
      "metadata": {
        "id": "j_T_5xnlIQje"
      },
      "source": [
        "#df = filter1.groupby(['detected_state','detected_city'])['current_status'].count().to_frame()\n",
        "df = filter1.groupby(['detected_state','detected_city'])['current_status'].value_counts().to_frame()"
      ],
      "execution_count": null,
      "outputs": []
    },
    {
      "cell_type": "code",
      "metadata": {
        "id": "mrMWIX4cIQjn",
        "outputId": "4e1a48ac-bc5a-458d-f9a8-ad44614a8738"
      },
      "source": [
        "df.columns"
      ],
      "execution_count": null,
      "outputs": [
        {
          "output_type": "execute_result",
          "data": {
            "text/plain": [
              "Index(['current_status'], dtype='object')"
            ]
          },
          "metadata": {
            "tags": []
          },
          "execution_count": 33
        }
      ]
    },
    {
      "cell_type": "code",
      "metadata": {
        "id": "I9W6_0KdIQju",
        "outputId": "f7ac4596-06e6-4d6e-b8d1-509d28022ab7"
      },
      "source": [
        "df.rename(columns={'current_status':'count'},inplace=True)\n",
        "df.columns"
      ],
      "execution_count": null,
      "outputs": [
        {
          "output_type": "execute_result",
          "data": {
            "text/plain": [
              "Index(['count'], dtype='object')"
            ]
          },
          "metadata": {
            "tags": []
          },
          "execution_count": 34
        }
      ]
    },
    {
      "cell_type": "code",
      "metadata": {
        "scrolled": true,
        "id": "khyJKnvPIQjz"
      },
      "source": [
        ""
      ],
      "execution_count": null,
      "outputs": []
    },
    {
      "cell_type": "code",
      "metadata": {
        "id": "LCAw5AArIQj4"
      },
      "source": [
        "start_week1,end_week1 = '2020-03-20','2020-03-26'\n",
        "start_week2,end_week2 = '2020-03-20','2020-04-02'\n",
        "start_week3,end_week3 = '2020-03-20','2020-04-10'\n",
        "\n",
        "df_week1 = IndividualDetails[(IndividualDetails['status_change_date']>=start_week1)&(IndividualDetails['status_change_date']<=end_week1)]\n",
        "df_week2 = IndividualDetails[(IndividualDetails['status_change_date']>=start_week2)&(IndividualDetails['status_change_date']<=end_week2)]\n",
        "df_week3 = IndividualDetails[(IndividualDetails['status_change_date']>=start_week3)&(IndividualDetails['status_change_date']<=end_week3)]\n",
        "\n",
        "\n",
        "\n",
        "week1 = df_week1.groupby(['detected_state','detected_city'])['current_status'].value_counts().to_frame()\n",
        "week2 = df_week2.groupby(['detected_state','detected_city'])['current_status'].value_counts().to_frame()\n",
        "week3 = df_week3.groupby(['detected_state','detected_city'])['current_status'].value_counts().to_frame()\n",
        "\n",
        "week1.rename(columns={'current_status':'count'},inplace = True)\n",
        "week2.rename(columns={'current_status':'count'},inplace = True)\n",
        "week3.rename(columns={'current_status':'count'},inplace = True)\n",
        "\n",
        "week1.reset_index(inplace=True)\n",
        "week2.reset_index(inplace=True)\n",
        "week3.reset_index(inplace=True)"
      ],
      "execution_count": null,
      "outputs": []
    },
    {
      "cell_type": "code",
      "metadata": {
        "id": "4-azRolTIQj_"
      },
      "source": [
        "hot_spot_week1 = week1\n",
        "week1_hot_spot = hot_spot_week1.groupby(['detected_state','detected_city','current_status']).sum().groupby(level=0).cumsum()\n",
        "week1_hot_spot.reset_index(inplace=True)"
      ],
      "execution_count": null,
      "outputs": []
    },
    {
      "cell_type": "code",
      "metadata": {
        "id": "peGj5ZCwIQkF",
        "outputId": "855195c8-7014-4854-a49e-bc529db1e91a"
      },
      "source": [
        "week1_hot_spot.head()"
      ],
      "execution_count": null,
      "outputs": [
        {
          "output_type": "execute_result",
          "data": {
            "text/html": [
              "<div>\n",
              "<style scoped>\n",
              "    .dataframe tbody tr th:only-of-type {\n",
              "        vertical-align: middle;\n",
              "    }\n",
              "\n",
              "    .dataframe tbody tr th {\n",
              "        vertical-align: top;\n",
              "    }\n",
              "\n",
              "    .dataframe thead th {\n",
              "        text-align: right;\n",
              "    }\n",
              "</style>\n",
              "<table border=\"1\" class=\"dataframe\">\n",
              "  <thead>\n",
              "    <tr style=\"text-align: right;\">\n",
              "      <th></th>\n",
              "      <th>detected_state</th>\n",
              "      <th>detected_city</th>\n",
              "      <th>current_status</th>\n",
              "      <th>count</th>\n",
              "    </tr>\n",
              "  </thead>\n",
              "  <tbody>\n",
              "    <tr>\n",
              "      <th>0</th>\n",
              "      <td>Andhra Pradesh</td>\n",
              "      <td>Rajahmundry</td>\n",
              "      <td>Hospitalized</td>\n",
              "      <td>1</td>\n",
              "    </tr>\n",
              "    <tr>\n",
              "      <th>1</th>\n",
              "      <td>Andhra Pradesh</td>\n",
              "      <td>Srikalahasti</td>\n",
              "      <td>Hospitalized</td>\n",
              "      <td>2</td>\n",
              "    </tr>\n",
              "    <tr>\n",
              "      <th>2</th>\n",
              "      <td>Andhra Pradesh</td>\n",
              "      <td>Vijayawada</td>\n",
              "      <td>Hospitalized</td>\n",
              "      <td>5</td>\n",
              "    </tr>\n",
              "    <tr>\n",
              "      <th>3</th>\n",
              "      <td>Andhra Pradesh</td>\n",
              "      <td>Visakhapatnam</td>\n",
              "      <td>Hospitalized</td>\n",
              "      <td>7</td>\n",
              "    </tr>\n",
              "    <tr>\n",
              "      <th>4</th>\n",
              "      <td>Bihar</td>\n",
              "      <td>Munger</td>\n",
              "      <td>Deceased</td>\n",
              "      <td>1</td>\n",
              "    </tr>\n",
              "  </tbody>\n",
              "</table>\n",
              "</div>"
            ],
            "text/plain": [
              "   detected_state  detected_city current_status  count\n",
              "0  Andhra Pradesh    Rajahmundry   Hospitalized      1\n",
              "1  Andhra Pradesh   Srikalahasti   Hospitalized      2\n",
              "2  Andhra Pradesh     Vijayawada   Hospitalized      5\n",
              "3  Andhra Pradesh  Visakhapatnam   Hospitalized      7\n",
              "4           Bihar         Munger       Deceased      1"
            ]
          },
          "metadata": {
            "tags": []
          },
          "execution_count": 154
        }
      ]
    },
    {
      "cell_type": "code",
      "metadata": {
        "id": "qQ4ZiP0lIQkK"
      },
      "source": [
        "q1 = pd.DataFrame(week1_hot_spot.groupby(['detected_state','current_status'])['count'].sum())"
      ],
      "execution_count": null,
      "outputs": []
    },
    {
      "cell_type": "code",
      "metadata": {
        "id": "4OeZ9KMMIQkP"
      },
      "source": [
        "hot_spot_week2 = week2\n",
        "week2_hot_spot = hot_spot_week2.groupby(['detected_state','detected_city','current_status']).sum().groupby(level=0).cumsum()\n",
        "#week2_hot_spot.reset_index(inplace=True)\n",
        "q2 = pd.DataFrame(week2_hot_spot.groupby(['detected_state','current_status'])['count'].sum())"
      ],
      "execution_count": null,
      "outputs": []
    },
    {
      "cell_type": "code",
      "metadata": {
        "id": "N3M7DkeUIQkT"
      },
      "source": [
        "hot_spot_week3 = week3\n",
        "week3_hot_spot = hot_spot_week3.groupby(['detected_state','detected_city','current_status']).sum().groupby(level=0).cumsum()\n",
        "#week3_hot_spot.reset_index(inplace=True)\n",
        "q3 = pd.DataFrame(week3_hot_spot.groupby(['detected_state','current_status'])['count'].sum())"
      ],
      "execution_count": null,
      "outputs": []
    },
    {
      "cell_type": "code",
      "metadata": {
        "id": "3was04vCIQkY"
      },
      "source": [
        "q1.rename(columns={'count':'week1_count'},inplace=True)\n",
        "q2.rename(columns={'week1_count':'week2_count'},inplace=True)\n",
        "q3.rename(columns={'week1_count':'week3_count'},inplace=True)"
      ],
      "execution_count": null,
      "outputs": []
    },
    {
      "cell_type": "markdown",
      "metadata": {
        "id": "CAL6Qw2tIQke"
      },
      "source": [
        "## Table represents the change in the hotspots across the country"
      ]
    },
    {
      "cell_type": "code",
      "metadata": {
        "id": "FJ1cJ73dIQkf",
        "outputId": "a7ca7437-08de-41c9-e2b4-b01649319f2a"
      },
      "source": [
        "pd.concat([q1,q2,q3],axis=1)"
      ],
      "execution_count": null,
      "outputs": [
        {
          "output_type": "execute_result",
          "data": {
            "text/html": [
              "<div>\n",
              "<style scoped>\n",
              "    .dataframe tbody tr th:only-of-type {\n",
              "        vertical-align: middle;\n",
              "    }\n",
              "\n",
              "    .dataframe tbody tr th {\n",
              "        vertical-align: top;\n",
              "    }\n",
              "\n",
              "    .dataframe thead th {\n",
              "        text-align: right;\n",
              "    }\n",
              "</style>\n",
              "<table border=\"1\" class=\"dataframe\">\n",
              "  <thead>\n",
              "    <tr style=\"text-align: right;\">\n",
              "      <th></th>\n",
              "      <th></th>\n",
              "      <th>week1_count</th>\n",
              "      <th>week2_count</th>\n",
              "      <th>week3_count</th>\n",
              "    </tr>\n",
              "    <tr>\n",
              "      <th>detected_state</th>\n",
              "      <th>current_status</th>\n",
              "      <th></th>\n",
              "      <th></th>\n",
              "      <th></th>\n",
              "    </tr>\n",
              "  </thead>\n",
              "  <tbody>\n",
              "    <tr>\n",
              "      <th rowspan=\"2\" valign=\"top\">Andhra Pradesh</th>\n",
              "      <th>Hospitalized</th>\n",
              "      <td>15.0</td>\n",
              "      <td>192.0</td>\n",
              "      <td>192</td>\n",
              "    </tr>\n",
              "    <tr>\n",
              "      <th>Recovered</th>\n",
              "      <td>NaN</td>\n",
              "      <td>25.0</td>\n",
              "      <td>25</td>\n",
              "    </tr>\n",
              "    <tr>\n",
              "      <th>Assam</th>\n",
              "      <th>Hospitalized</th>\n",
              "      <td>NaN</td>\n",
              "      <td>1.0</td>\n",
              "      <td>1</td>\n",
              "    </tr>\n",
              "    <tr>\n",
              "      <th rowspan=\"2\" valign=\"top\">Bihar</th>\n",
              "      <th>Deceased</th>\n",
              "      <td>1.0</td>\n",
              "      <td>1.0</td>\n",
              "      <td>1</td>\n",
              "    </tr>\n",
              "    <tr>\n",
              "      <th>Hospitalized</th>\n",
              "      <td>2.0</td>\n",
              "      <td>2.0</td>\n",
              "      <td>2</td>\n",
              "    </tr>\n",
              "    <tr>\n",
              "      <th>Chandigarh</th>\n",
              "      <th>Hospitalized</th>\n",
              "      <td>6.0</td>\n",
              "      <td>6.0</td>\n",
              "      <td>6</td>\n",
              "    </tr>\n",
              "    <tr>\n",
              "      <th>Chhattisgarh</th>\n",
              "      <th>Hospitalized</th>\n",
              "      <td>12.0</td>\n",
              "      <td>12.0</td>\n",
              "      <td>12</td>\n",
              "    </tr>\n",
              "    <tr>\n",
              "      <th rowspan=\"2\" valign=\"top\">Delhi</th>\n",
              "      <th>Hospitalized</th>\n",
              "      <td>35.0</td>\n",
              "      <td>114.0</td>\n",
              "      <td>114</td>\n",
              "    </tr>\n",
              "    <tr>\n",
              "      <th>Migrated</th>\n",
              "      <td>9.0</td>\n",
              "      <td>33.0</td>\n",
              "      <td>33</td>\n",
              "    </tr>\n",
              "    <tr>\n",
              "      <th>Goa</th>\n",
              "      <th>Hospitalized</th>\n",
              "      <td>3.0</td>\n",
              "      <td>3.0</td>\n",
              "      <td>3</td>\n",
              "    </tr>\n",
              "    <tr>\n",
              "      <th rowspan=\"3\" valign=\"top\">Gujarat</th>\n",
              "      <th>Deceased</th>\n",
              "      <td>22.0</td>\n",
              "      <td>32.0</td>\n",
              "      <td>32</td>\n",
              "    </tr>\n",
              "    <tr>\n",
              "      <th>Hospitalized</th>\n",
              "      <td>107.0</td>\n",
              "      <td>216.0</td>\n",
              "      <td>216</td>\n",
              "    </tr>\n",
              "    <tr>\n",
              "      <th>Recovered</th>\n",
              "      <td>14.0</td>\n",
              "      <td>17.0</td>\n",
              "      <td>17</td>\n",
              "    </tr>\n",
              "    <tr>\n",
              "      <th rowspan=\"2\" valign=\"top\">Haryana</th>\n",
              "      <th>Hospitalized</th>\n",
              "      <td>24.0</td>\n",
              "      <td>78.0</td>\n",
              "      <td>91</td>\n",
              "    </tr>\n",
              "    <tr>\n",
              "      <th>Recovered</th>\n",
              "      <td>NaN</td>\n",
              "      <td>15.0</td>\n",
              "      <td>17</td>\n",
              "    </tr>\n",
              "    <tr>\n",
              "      <th rowspan=\"3\" valign=\"top\">Himachal Pradesh</th>\n",
              "      <th>Deceased</th>\n",
              "      <td>1.0</td>\n",
              "      <td>1.0</td>\n",
              "      <td>1</td>\n",
              "    </tr>\n",
              "    <tr>\n",
              "      <th>Hospitalized</th>\n",
              "      <td>2.0</td>\n",
              "      <td>2.0</td>\n",
              "      <td>2</td>\n",
              "    </tr>\n",
              "    <tr>\n",
              "      <th>Recovered</th>\n",
              "      <td>NaN</td>\n",
              "      <td>3.0</td>\n",
              "      <td>3</td>\n",
              "    </tr>\n",
              "    <tr>\n",
              "      <th>Jammu and Kashmir</th>\n",
              "      <th>Hospitalized</th>\n",
              "      <td>7.0</td>\n",
              "      <td>30.0</td>\n",
              "      <td>30</td>\n",
              "    </tr>\n",
              "    <tr>\n",
              "      <th>Jharkhand</th>\n",
              "      <th>Hospitalized</th>\n",
              "      <td>NaN</td>\n",
              "      <td>1.0</td>\n",
              "      <td>1</td>\n",
              "    </tr>\n",
              "    <tr>\n",
              "      <th rowspan=\"3\" valign=\"top\">Karnataka</th>\n",
              "      <th>Deceased</th>\n",
              "      <td>NaN</td>\n",
              "      <td>73.0</td>\n",
              "      <td>73</td>\n",
              "    </tr>\n",
              "    <tr>\n",
              "      <th>Hospitalized</th>\n",
              "      <td>273.0</td>\n",
              "      <td>782.0</td>\n",
              "      <td>782</td>\n",
              "    </tr>\n",
              "    <tr>\n",
              "      <th>Recovered</th>\n",
              "      <td>24.0</td>\n",
              "      <td>37.0</td>\n",
              "      <td>37</td>\n",
              "    </tr>\n",
              "    <tr>\n",
              "      <th rowspan=\"3\" valign=\"top\">Kerala</th>\n",
              "      <th>Deceased</th>\n",
              "      <td>NaN</td>\n",
              "      <td>1.0</td>\n",
              "      <td>1</td>\n",
              "    </tr>\n",
              "    <tr>\n",
              "      <th>Hospitalized</th>\n",
              "      <td>97.0</td>\n",
              "      <td>315.0</td>\n",
              "      <td>315</td>\n",
              "    </tr>\n",
              "    <tr>\n",
              "      <th>Recovered</th>\n",
              "      <td>108.0</td>\n",
              "      <td>301.0</td>\n",
              "      <td>301</td>\n",
              "    </tr>\n",
              "    <tr>\n",
              "      <th>Ladakh</th>\n",
              "      <th>Hospitalized</th>\n",
              "      <td>11.0</td>\n",
              "      <td>11.0</td>\n",
              "      <td>11</td>\n",
              "    </tr>\n",
              "    <tr>\n",
              "      <th rowspan=\"2\" valign=\"top\">Madhya Pradesh</th>\n",
              "      <th>Deceased</th>\n",
              "      <td>17.0</td>\n",
              "      <td>20.0</td>\n",
              "      <td>20</td>\n",
              "    </tr>\n",
              "    <tr>\n",
              "      <th>Hospitalized</th>\n",
              "      <td>27.0</td>\n",
              "      <td>32.0</td>\n",
              "      <td>32</td>\n",
              "    </tr>\n",
              "    <tr>\n",
              "      <th rowspan=\"3\" valign=\"top\">Maharashtra</th>\n",
              "      <th>Deceased</th>\n",
              "      <td>5.0</td>\n",
              "      <td>5.0</td>\n",
              "      <td>5</td>\n",
              "    </tr>\n",
              "    <tr>\n",
              "      <th>Hospitalized</th>\n",
              "      <td>511.0</td>\n",
              "      <td>705.0</td>\n",
              "      <td>775</td>\n",
              "    </tr>\n",
              "    <tr>\n",
              "      <th>Recovered</th>\n",
              "      <td>60.0</td>\n",
              "      <td>75.0</td>\n",
              "      <td>76</td>\n",
              "    </tr>\n",
              "    <tr>\n",
              "      <th>Manipur</th>\n",
              "      <th>Hospitalized</th>\n",
              "      <td>1.0</td>\n",
              "      <td>1.0</td>\n",
              "      <td>1</td>\n",
              "    </tr>\n",
              "    <tr>\n",
              "      <th>Odisha</th>\n",
              "      <th>Hospitalized</th>\n",
              "      <td>1.0</td>\n",
              "      <td>2.0</td>\n",
              "      <td>2</td>\n",
              "    </tr>\n",
              "    <tr>\n",
              "      <th>Punjab</th>\n",
              "      <th>Hospitalized</th>\n",
              "      <td>44.0</td>\n",
              "      <td>44.0</td>\n",
              "      <td>44</td>\n",
              "    </tr>\n",
              "    <tr>\n",
              "      <th rowspan=\"2\" valign=\"top\">Rajasthan</th>\n",
              "      <th>Hospitalized</th>\n",
              "      <td>125.0</td>\n",
              "      <td>171.0</td>\n",
              "      <td>174</td>\n",
              "    </tr>\n",
              "    <tr>\n",
              "      <th>Recovered</th>\n",
              "      <td>NaN</td>\n",
              "      <td>NaN</td>\n",
              "      <td>28</td>\n",
              "    </tr>\n",
              "    <tr>\n",
              "      <th rowspan=\"3\" valign=\"top\">Tamil Nadu</th>\n",
              "      <th>Deceased</th>\n",
              "      <td>9.0</td>\n",
              "      <td>15.0</td>\n",
              "      <td>15</td>\n",
              "    </tr>\n",
              "    <tr>\n",
              "      <th>Hospitalized</th>\n",
              "      <td>119.0</td>\n",
              "      <td>421.0</td>\n",
              "      <td>421</td>\n",
              "    </tr>\n",
              "    <tr>\n",
              "      <th>Recovered</th>\n",
              "      <td>NaN</td>\n",
              "      <td>10.0</td>\n",
              "      <td>10</td>\n",
              "    </tr>\n",
              "    <tr>\n",
              "      <th>Telangana</th>\n",
              "      <th>Hospitalized</th>\n",
              "      <td>191.0</td>\n",
              "      <td>216.0</td>\n",
              "      <td>216</td>\n",
              "    </tr>\n",
              "    <tr>\n",
              "      <th rowspan=\"2\" valign=\"top\">Uttar Pradesh</th>\n",
              "      <th>Hospitalized</th>\n",
              "      <td>135.0</td>\n",
              "      <td>178.0</td>\n",
              "      <td>204</td>\n",
              "    </tr>\n",
              "    <tr>\n",
              "      <th>Recovered</th>\n",
              "      <td>1.0</td>\n",
              "      <td>1.0</td>\n",
              "      <td>3</td>\n",
              "    </tr>\n",
              "    <tr>\n",
              "      <th>Uttarakhand</th>\n",
              "      <th>Hospitalized</th>\n",
              "      <td>1.0</td>\n",
              "      <td>1.0</td>\n",
              "      <td>1</td>\n",
              "    </tr>\n",
              "    <tr>\n",
              "      <th rowspan=\"3\" valign=\"top\">West Bengal</th>\n",
              "      <th>Deceased</th>\n",
              "      <td>4.0</td>\n",
              "      <td>4.0</td>\n",
              "      <td>4</td>\n",
              "    </tr>\n",
              "    <tr>\n",
              "      <th>Hospitalized</th>\n",
              "      <td>19.0</td>\n",
              "      <td>40.0</td>\n",
              "      <td>40</td>\n",
              "    </tr>\n",
              "    <tr>\n",
              "      <th>Recovered</th>\n",
              "      <td>13.0</td>\n",
              "      <td>13.0</td>\n",
              "      <td>13</td>\n",
              "    </tr>\n",
              "  </tbody>\n",
              "</table>\n",
              "</div>"
            ],
            "text/plain": [
              "                                  week1_count  week2_count  week3_count\n",
              "detected_state    current_status                                       \n",
              "Andhra Pradesh    Hospitalized           15.0        192.0          192\n",
              "                  Recovered               NaN         25.0           25\n",
              "Assam             Hospitalized            NaN          1.0            1\n",
              "Bihar             Deceased                1.0          1.0            1\n",
              "                  Hospitalized            2.0          2.0            2\n",
              "Chandigarh        Hospitalized            6.0          6.0            6\n",
              "Chhattisgarh      Hospitalized           12.0         12.0           12\n",
              "Delhi             Hospitalized           35.0        114.0          114\n",
              "                  Migrated                9.0         33.0           33\n",
              "Goa               Hospitalized            3.0          3.0            3\n",
              "Gujarat           Deceased               22.0         32.0           32\n",
              "                  Hospitalized          107.0        216.0          216\n",
              "                  Recovered              14.0         17.0           17\n",
              "Haryana           Hospitalized           24.0         78.0           91\n",
              "                  Recovered               NaN         15.0           17\n",
              "Himachal Pradesh  Deceased                1.0          1.0            1\n",
              "                  Hospitalized            2.0          2.0            2\n",
              "                  Recovered               NaN          3.0            3\n",
              "Jammu and Kashmir Hospitalized            7.0         30.0           30\n",
              "Jharkhand         Hospitalized            NaN          1.0            1\n",
              "Karnataka         Deceased                NaN         73.0           73\n",
              "                  Hospitalized          273.0        782.0          782\n",
              "                  Recovered              24.0         37.0           37\n",
              "Kerala            Deceased                NaN          1.0            1\n",
              "                  Hospitalized           97.0        315.0          315\n",
              "                  Recovered             108.0        301.0          301\n",
              "Ladakh            Hospitalized           11.0         11.0           11\n",
              "Madhya Pradesh    Deceased               17.0         20.0           20\n",
              "                  Hospitalized           27.0         32.0           32\n",
              "Maharashtra       Deceased                5.0          5.0            5\n",
              "                  Hospitalized          511.0        705.0          775\n",
              "                  Recovered              60.0         75.0           76\n",
              "Manipur           Hospitalized            1.0          1.0            1\n",
              "Odisha            Hospitalized            1.0          2.0            2\n",
              "Punjab            Hospitalized           44.0         44.0           44\n",
              "Rajasthan         Hospitalized          125.0        171.0          174\n",
              "                  Recovered               NaN          NaN           28\n",
              "Tamil Nadu        Deceased                9.0         15.0           15\n",
              "                  Hospitalized          119.0        421.0          421\n",
              "                  Recovered               NaN         10.0           10\n",
              "Telangana         Hospitalized          191.0        216.0          216\n",
              "Uttar Pradesh     Hospitalized          135.0        178.0          204\n",
              "                  Recovered               1.0          1.0            3\n",
              "Uttarakhand       Hospitalized            1.0          1.0            1\n",
              "West Bengal       Deceased                4.0          4.0            4\n",
              "                  Hospitalized           19.0         40.0           40\n",
              "                  Recovered              13.0         13.0           13"
            ]
          },
          "metadata": {
            "tags": []
          },
          "execution_count": 182
        }
      ]
    },
    {
      "cell_type": "markdown",
      "metadata": {
        "id": "wJpbJ8r8IQkz"
      },
      "source": [
        "### Part 6"
      ]
    },
    {
      "cell_type": "code",
      "metadata": {
        "id": "sFLfw27YIQk0",
        "outputId": "56c3e6ce-2770-47a9-bea0-9e0e4fd864c4"
      },
      "source": [
        "IndividualDetails.info()"
      ],
      "execution_count": null,
      "outputs": [
        {
          "output_type": "stream",
          "text": [
            "<class 'pandas.core.frame.DataFrame'>\n",
            "RangeIndex: 3671 entries, 0 to 3670\n",
            "Data columns (total 12 columns):\n",
            " #   Column              Non-Null Count  Dtype         \n",
            "---  ------              --------------  -----         \n",
            " 0   id                  3671 non-null   int64         \n",
            " 1   government_id       817 non-null    object        \n",
            " 2   diagnosed_date      3671 non-null   datetime64[ns]\n",
            " 3   age                 805 non-null    object        \n",
            " 4   gender              1035 non-null   object        \n",
            " 5   detected_city       822 non-null    object        \n",
            " 6   detected_district   2744 non-null   object        \n",
            " 7   detected_state      3671 non-null   object        \n",
            " 8   nationality         427 non-null    object        \n",
            " 9   current_status      3671 non-null   object        \n",
            " 10  status_change_date  3570 non-null   datetime64[ns]\n",
            " 11  notes               2640 non-null   object        \n",
            "dtypes: datetime64[ns](2), int64(1), object(9)\n",
            "memory usage: 344.3+ KB\n"
          ],
          "name": "stdout"
        }
      ]
    },
    {
      "cell_type": "code",
      "metadata": {
        "id": "T7tvz_nLIQk4"
      },
      "source": [
        "notes = IndividualDetails[IndividualDetails['notes'].isna()==False]"
      ],
      "execution_count": null,
      "outputs": []
    },
    {
      "cell_type": "code",
      "metadata": {
        "id": "0fhthBB6IQk8"
      },
      "source": [
        "data = notes['notes'].value_counts().to_frame().reset_index()"
      ],
      "execution_count": null,
      "outputs": []
    },
    {
      "cell_type": "code",
      "metadata": {
        "id": "wNh-Kj-eIQlC"
      },
      "source": [
        "a = list(data['index'])\n",
        "b = []"
      ],
      "execution_count": null,
      "outputs": []
    },
    {
      "cell_type": "code",
      "metadata": {
        "id": "Z1oAKWm0IQlH"
      },
      "source": [
        "primary_cases =  ['Travel','travel','Travelled','travelled','Abroad','International','UK-returned','abroad']\n",
        "secondary_case = ['no travel', 'locally','contact', 'contacts','relative', 'conference', 'father','mother', 'brother','sister', 'daughter', 'doctor', 'tablighi',\n",
        "               'compounder', 'hospital', 'son','nurse', 'relative','wife','friend','tourists', 'guide','grandmother',\n",
        "               'family','religious','congregation','driver','cab','related','tenant','worker','cook','uncle','aunt','event']\n",
        "\n",
        "primary_sent = '|'.join(primary_cases)\n",
        "sec_sent = '|'.join(secondary_case)\n"
      ],
      "execution_count": null,
      "outputs": []
    },
    {
      "cell_type": "code",
      "metadata": {
        "id": "mJ9m4Z-kIQlO"
      },
      "source": [
        "Primary = notes[notes['notes'].str.contains(primary_sent,case=False) == True] \n",
        "sec = notes[notes['notes'].str.contains(sec_sent,case=False) == True] "
      ],
      "execution_count": null,
      "outputs": []
    },
    {
      "cell_type": "code",
      "metadata": {
        "id": "MB13DnlRIQlS",
        "outputId": "7106c534-2b9b-4f89-dcef-12eb23b0536c"
      },
      "source": [
        "Primary['flag'] = 'p'\n",
        "sec['flag']='s'"
      ],
      "execution_count": null,
      "outputs": [
        {
          "output_type": "stream",
          "text": [
            "C:\\ProgramData\\Anaconda3\\lib\\site-packages\\ipykernel_launcher.py:1: SettingWithCopyWarning: \n",
            "A value is trying to be set on a copy of a slice from a DataFrame.\n",
            "Try using .loc[row_indexer,col_indexer] = value instead\n",
            "\n",
            "See the caveats in the documentation: https://pandas.pydata.org/pandas-docs/stable/user_guide/indexing.html#returning-a-view-versus-a-copy\n",
            "  \"\"\"Entry point for launching an IPython kernel.\n",
            "C:\\ProgramData\\Anaconda3\\lib\\site-packages\\ipykernel_launcher.py:2: SettingWithCopyWarning: \n",
            "A value is trying to be set on a copy of a slice from a DataFrame.\n",
            "Try using .loc[row_indexer,col_indexer] = value instead\n",
            "\n",
            "See the caveats in the documentation: https://pandas.pydata.org/pandas-docs/stable/user_guide/indexing.html#returning-a-view-versus-a-copy\n",
            "  \n"
          ],
          "name": "stderr"
        }
      ]
    },
    {
      "cell_type": "code",
      "metadata": {
        "id": "5_Op0W1xIQlX"
      },
      "source": [
        "total = pd.concat([Primary,sec])"
      ],
      "execution_count": null,
      "outputs": []
    },
    {
      "cell_type": "code",
      "metadata": {
        "id": "GWIAr7moIQld",
        "outputId": "8c0e5a54-4fb4-4c66-a05d-b9c5298bcda2"
      },
      "source": [
        "total.sample(5)"
      ],
      "execution_count": null,
      "outputs": [
        {
          "output_type": "execute_result",
          "data": {
            "text/html": [
              "<div>\n",
              "<style scoped>\n",
              "    .dataframe tbody tr th:only-of-type {\n",
              "        vertical-align: middle;\n",
              "    }\n",
              "\n",
              "    .dataframe tbody tr th {\n",
              "        vertical-align: top;\n",
              "    }\n",
              "\n",
              "    .dataframe thead th {\n",
              "        text-align: right;\n",
              "    }\n",
              "</style>\n",
              "<table border=\"1\" class=\"dataframe\">\n",
              "  <thead>\n",
              "    <tr style=\"text-align: right;\">\n",
              "      <th></th>\n",
              "      <th>id</th>\n",
              "      <th>government_id</th>\n",
              "      <th>diagnosed_date</th>\n",
              "      <th>age</th>\n",
              "      <th>gender</th>\n",
              "      <th>detected_city</th>\n",
              "      <th>detected_district</th>\n",
              "      <th>detected_state</th>\n",
              "      <th>nationality</th>\n",
              "      <th>current_status</th>\n",
              "      <th>status_change_date</th>\n",
              "      <th>notes</th>\n",
              "      <th>flag</th>\n",
              "    </tr>\n",
              "  </thead>\n",
              "  <tbody>\n",
              "    <tr>\n",
              "      <th>156</th>\n",
              "      <td>156</td>\n",
              "      <td>NaN</td>\n",
              "      <td>2020-03-18</td>\n",
              "      <td>21</td>\n",
              "      <td>M</td>\n",
              "      <td>Pimpri-Chinchwad</td>\n",
              "      <td>Pune</td>\n",
              "      <td>Maharashtra</td>\n",
              "      <td>India</td>\n",
              "      <td>Hospitalized</td>\n",
              "      <td>2020-03-18</td>\n",
              "      <td>Travelled from Philippines, Singapore and Sri ...</td>\n",
              "      <td>p</td>\n",
              "    </tr>\n",
              "    <tr>\n",
              "      <th>2758</th>\n",
              "      <td>2758</td>\n",
              "      <td>TN-P325</td>\n",
              "      <td>2020-03-04</td>\n",
              "      <td>NaN</td>\n",
              "      <td>NaN</td>\n",
              "      <td>NaN</td>\n",
              "      <td>Chennai</td>\n",
              "      <td>Tamil Nadu</td>\n",
              "      <td>NaN</td>\n",
              "      <td>Hospitalized</td>\n",
              "      <td>2020-03-04</td>\n",
              "      <td>Attended Delhi Religious Conference</td>\n",
              "      <td>s</td>\n",
              "    </tr>\n",
              "    <tr>\n",
              "      <th>1298</th>\n",
              "      <td>1298</td>\n",
              "      <td>NaN</td>\n",
              "      <td>2020-03-30</td>\n",
              "      <td>NaN</td>\n",
              "      <td>M</td>\n",
              "      <td>Nizamuddin area</td>\n",
              "      <td>South Delhi</td>\n",
              "      <td>Delhi</td>\n",
              "      <td>NaN</td>\n",
              "      <td>Hospitalized</td>\n",
              "      <td>2020-03-30</td>\n",
              "      <td>attended religious event Tablighi Jamaat in delhi</td>\n",
              "      <td>s</td>\n",
              "    </tr>\n",
              "    <tr>\n",
              "      <th>836</th>\n",
              "      <td>836</td>\n",
              "      <td>NaN</td>\n",
              "      <td>2020-03-27</td>\n",
              "      <td>NaN</td>\n",
              "      <td>NaN</td>\n",
              "      <td>NaN</td>\n",
              "      <td>Kasaragod</td>\n",
              "      <td>Kerala</td>\n",
              "      <td>NaN</td>\n",
              "      <td>Hospitalized</td>\n",
              "      <td>2020-03-27</td>\n",
              "      <td>Contact transmission. details awaited</td>\n",
              "      <td>s</td>\n",
              "    </tr>\n",
              "    <tr>\n",
              "      <th>140</th>\n",
              "      <td>140</td>\n",
              "      <td>TS-P5</td>\n",
              "      <td>2020-03-17</td>\n",
              "      <td>52</td>\n",
              "      <td>M</td>\n",
              "      <td>Hyderabad</td>\n",
              "      <td>Hyderabad</td>\n",
              "      <td>Telangana</td>\n",
              "      <td>Indonesia</td>\n",
              "      <td>Hospitalized</td>\n",
              "      <td>2020-03-17</td>\n",
              "      <td>Indonesian national; The patient had flown int...</td>\n",
              "      <td>s</td>\n",
              "    </tr>\n",
              "  </tbody>\n",
              "</table>\n",
              "</div>"
            ],
            "text/plain": [
              "        id government_id diagnosed_date  age gender     detected_city  \\\n",
              "156    156           NaN     2020-03-18   21      M  Pimpri-Chinchwad   \n",
              "2758  2758       TN-P325     2020-03-04  NaN    NaN               NaN   \n",
              "1298  1298           NaN     2020-03-30  NaN      M   Nizamuddin area   \n",
              "836    836           NaN     2020-03-27  NaN    NaN               NaN   \n",
              "140    140         TS-P5     2020-03-17   52      M         Hyderabad   \n",
              "\n",
              "     detected_district detected_state nationality current_status  \\\n",
              "156               Pune    Maharashtra       India   Hospitalized   \n",
              "2758           Chennai     Tamil Nadu         NaN   Hospitalized   \n",
              "1298       South Delhi          Delhi         NaN   Hospitalized   \n",
              "836          Kasaragod         Kerala         NaN   Hospitalized   \n",
              "140          Hyderabad      Telangana   Indonesia   Hospitalized   \n",
              "\n",
              "     status_change_date                                              notes  \\\n",
              "156          2020-03-18  Travelled from Philippines, Singapore and Sri ...   \n",
              "2758         2020-03-04                Attended Delhi Religious Conference   \n",
              "1298         2020-03-30  attended religious event Tablighi Jamaat in delhi   \n",
              "836          2020-03-27              Contact transmission. details awaited   \n",
              "140          2020-03-17  Indonesian national; The patient had flown int...   \n",
              "\n",
              "     flag  \n",
              "156     p  \n",
              "2758    s  \n",
              "1298    s  \n",
              "836     s  \n",
              "140     s  "
            ]
          },
          "metadata": {
            "tags": []
          },
          "execution_count": 52
        }
      ]
    },
    {
      "cell_type": "code",
      "metadata": {
        "id": "UPpWtTwyIQlj"
      },
      "source": [
        "data1 = total.groupby(['detected_state'])['flag'].value_counts().to_frame()"
      ],
      "execution_count": null,
      "outputs": []
    },
    {
      "cell_type": "code",
      "metadata": {
        "id": "oEuV4WGTIQln"
      },
      "source": [
        "data1.rename(columns={'flag':'count'},inplace=True)"
      ],
      "execution_count": null,
      "outputs": []
    },
    {
      "cell_type": "code",
      "metadata": {
        "id": "lP2AOuwNIQls"
      },
      "source": [
        "#data2 = data1.set_index('index').drop('level_0',axis=1)"
      ],
      "execution_count": null,
      "outputs": []
    },
    {
      "cell_type": "code",
      "metadata": {
        "id": "vGR3zJxqIQlx",
        "outputId": "f74b3848-0711-4219-9834-11207f2db8f0"
      },
      "source": [
        "data1.head()"
      ],
      "execution_count": null,
      "outputs": [
        {
          "output_type": "execute_result",
          "data": {
            "text/html": [
              "<div>\n",
              "<style scoped>\n",
              "    .dataframe tbody tr th:only-of-type {\n",
              "        vertical-align: middle;\n",
              "    }\n",
              "\n",
              "    .dataframe tbody tr th {\n",
              "        vertical-align: top;\n",
              "    }\n",
              "\n",
              "    .dataframe thead th {\n",
              "        text-align: right;\n",
              "    }\n",
              "</style>\n",
              "<table border=\"1\" class=\"dataframe\">\n",
              "  <thead>\n",
              "    <tr style=\"text-align: right;\">\n",
              "      <th></th>\n",
              "      <th></th>\n",
              "      <th>count</th>\n",
              "    </tr>\n",
              "    <tr>\n",
              "      <th>detected_state</th>\n",
              "      <th>flag</th>\n",
              "      <th></th>\n",
              "    </tr>\n",
              "  </thead>\n",
              "  <tbody>\n",
              "    <tr>\n",
              "      <th rowspan=\"2\" valign=\"top\">Andaman and Nicobar Islands</th>\n",
              "      <th>p</th>\n",
              "      <td>6</td>\n",
              "    </tr>\n",
              "    <tr>\n",
              "      <th>s</th>\n",
              "      <td>3</td>\n",
              "    </tr>\n",
              "    <tr>\n",
              "      <th rowspan=\"2\" valign=\"top\">Andhra Pradesh</th>\n",
              "      <th>s</th>\n",
              "      <td>28</td>\n",
              "    </tr>\n",
              "    <tr>\n",
              "      <th>p</th>\n",
              "      <td>15</td>\n",
              "    </tr>\n",
              "    <tr>\n",
              "      <th>Arunachal Pradesh</th>\n",
              "      <th>s</th>\n",
              "      <td>1</td>\n",
              "    </tr>\n",
              "  </tbody>\n",
              "</table>\n",
              "</div>"
            ],
            "text/plain": [
              "                                  count\n",
              "detected_state              flag       \n",
              "Andaman and Nicobar Islands p         6\n",
              "                            s         3\n",
              "Andhra Pradesh              s        28\n",
              "                            p        15\n",
              "Arunachal Pradesh           s         1"
            ]
          },
          "metadata": {
            "tags": []
          },
          "execution_count": 56
        }
      ]
    },
    {
      "cell_type": "code",
      "metadata": {
        "id": "INVevoYtIQmA"
      },
      "source": [
        "total_cases = data1.groupby('detected_state')['count'].sum().to_frame()"
      ],
      "execution_count": null,
      "outputs": []
    },
    {
      "cell_type": "code",
      "metadata": {
        "id": "uEpx80i3IQmE",
        "outputId": "3d143809-67f6-4d07-9ed9-71d71d31ee8d"
      },
      "source": [
        "total_cases.head()"
      ],
      "execution_count": null,
      "outputs": [
        {
          "output_type": "execute_result",
          "data": {
            "text/html": [
              "<div>\n",
              "<style scoped>\n",
              "    .dataframe tbody tr th:only-of-type {\n",
              "        vertical-align: middle;\n",
              "    }\n",
              "\n",
              "    .dataframe tbody tr th {\n",
              "        vertical-align: top;\n",
              "    }\n",
              "\n",
              "    .dataframe thead th {\n",
              "        text-align: right;\n",
              "    }\n",
              "</style>\n",
              "<table border=\"1\" class=\"dataframe\">\n",
              "  <thead>\n",
              "    <tr style=\"text-align: right;\">\n",
              "      <th></th>\n",
              "      <th>count</th>\n",
              "    </tr>\n",
              "    <tr>\n",
              "      <th>detected_state</th>\n",
              "      <th></th>\n",
              "    </tr>\n",
              "  </thead>\n",
              "  <tbody>\n",
              "    <tr>\n",
              "      <th>Andaman and Nicobar Islands</th>\n",
              "      <td>9</td>\n",
              "    </tr>\n",
              "    <tr>\n",
              "      <th>Andhra Pradesh</th>\n",
              "      <td>43</td>\n",
              "    </tr>\n",
              "    <tr>\n",
              "      <th>Arunachal Pradesh</th>\n",
              "      <td>1</td>\n",
              "    </tr>\n",
              "    <tr>\n",
              "      <th>Assam</th>\n",
              "      <td>18</td>\n",
              "    </tr>\n",
              "    <tr>\n",
              "      <th>Bihar</th>\n",
              "      <td>23</td>\n",
              "    </tr>\n",
              "  </tbody>\n",
              "</table>\n",
              "</div>"
            ],
            "text/plain": [
              "                             count\n",
              "detected_state                    \n",
              "Andaman and Nicobar Islands      9\n",
              "Andhra Pradesh                  43\n",
              "Arunachal Pradesh                1\n",
              "Assam                           18\n",
              "Bihar                           23"
            ]
          },
          "metadata": {
            "tags": []
          },
          "execution_count": 58
        }
      ]
    },
    {
      "cell_type": "code",
      "metadata": {
        "id": "IojRZBMMIQmI",
        "outputId": "a0876385-cc1b-446b-8065-7598ff7bea23"
      },
      "source": [
        "quantify = ((data1['count']/total_cases['count'])*100).to_frame().reset_index()\n",
        "quantify"
      ],
      "execution_count": null,
      "outputs": [
        {
          "output_type": "execute_result",
          "data": {
            "text/html": [
              "<div>\n",
              "<style scoped>\n",
              "    .dataframe tbody tr th:only-of-type {\n",
              "        vertical-align: middle;\n",
              "    }\n",
              "\n",
              "    .dataframe tbody tr th {\n",
              "        vertical-align: top;\n",
              "    }\n",
              "\n",
              "    .dataframe thead th {\n",
              "        text-align: right;\n",
              "    }\n",
              "</style>\n",
              "<table border=\"1\" class=\"dataframe\">\n",
              "  <thead>\n",
              "    <tr style=\"text-align: right;\">\n",
              "      <th></th>\n",
              "      <th>detected_state</th>\n",
              "      <th>flag</th>\n",
              "      <th>count</th>\n",
              "    </tr>\n",
              "  </thead>\n",
              "  <tbody>\n",
              "    <tr>\n",
              "      <th>0</th>\n",
              "      <td>Andaman and Nicobar Islands</td>\n",
              "      <td>p</td>\n",
              "      <td>66.666667</td>\n",
              "    </tr>\n",
              "    <tr>\n",
              "      <th>1</th>\n",
              "      <td>Andaman and Nicobar Islands</td>\n",
              "      <td>s</td>\n",
              "      <td>33.333333</td>\n",
              "    </tr>\n",
              "    <tr>\n",
              "      <th>2</th>\n",
              "      <td>Andhra Pradesh</td>\n",
              "      <td>s</td>\n",
              "      <td>65.116279</td>\n",
              "    </tr>\n",
              "    <tr>\n",
              "      <th>3</th>\n",
              "      <td>Andhra Pradesh</td>\n",
              "      <td>p</td>\n",
              "      <td>34.883721</td>\n",
              "    </tr>\n",
              "    <tr>\n",
              "      <th>4</th>\n",
              "      <td>Arunachal Pradesh</td>\n",
              "      <td>s</td>\n",
              "      <td>100.000000</td>\n",
              "    </tr>\n",
              "    <tr>\n",
              "      <th>5</th>\n",
              "      <td>Assam</td>\n",
              "      <td>s</td>\n",
              "      <td>100.000000</td>\n",
              "    </tr>\n",
              "    <tr>\n",
              "      <th>6</th>\n",
              "      <td>Bihar</td>\n",
              "      <td>p</td>\n",
              "      <td>73.913043</td>\n",
              "    </tr>\n",
              "    <tr>\n",
              "      <th>7</th>\n",
              "      <td>Bihar</td>\n",
              "      <td>s</td>\n",
              "      <td>26.086957</td>\n",
              "    </tr>\n",
              "    <tr>\n",
              "      <th>8</th>\n",
              "      <td>Chandigarh</td>\n",
              "      <td>s</td>\n",
              "      <td>68.750000</td>\n",
              "    </tr>\n",
              "    <tr>\n",
              "      <th>9</th>\n",
              "      <td>Chandigarh</td>\n",
              "      <td>p</td>\n",
              "      <td>31.250000</td>\n",
              "    </tr>\n",
              "    <tr>\n",
              "      <th>10</th>\n",
              "      <td>Chhattisgarh</td>\n",
              "      <td>p</td>\n",
              "      <td>75.000000</td>\n",
              "    </tr>\n",
              "    <tr>\n",
              "      <th>11</th>\n",
              "      <td>Chhattisgarh</td>\n",
              "      <td>s</td>\n",
              "      <td>25.000000</td>\n",
              "    </tr>\n",
              "    <tr>\n",
              "      <th>12</th>\n",
              "      <td>Delhi</td>\n",
              "      <td>s</td>\n",
              "      <td>65.573770</td>\n",
              "    </tr>\n",
              "    <tr>\n",
              "      <th>13</th>\n",
              "      <td>Delhi</td>\n",
              "      <td>p</td>\n",
              "      <td>34.426230</td>\n",
              "    </tr>\n",
              "    <tr>\n",
              "      <th>14</th>\n",
              "      <td>Goa</td>\n",
              "      <td>p</td>\n",
              "      <td>85.714286</td>\n",
              "    </tr>\n",
              "    <tr>\n",
              "      <th>15</th>\n",
              "      <td>Goa</td>\n",
              "      <td>s</td>\n",
              "      <td>14.285714</td>\n",
              "    </tr>\n",
              "    <tr>\n",
              "      <th>16</th>\n",
              "      <td>Gujarat</td>\n",
              "      <td>p</td>\n",
              "      <td>66.666667</td>\n",
              "    </tr>\n",
              "    <tr>\n",
              "      <th>17</th>\n",
              "      <td>Gujarat</td>\n",
              "      <td>s</td>\n",
              "      <td>33.333333</td>\n",
              "    </tr>\n",
              "    <tr>\n",
              "      <th>18</th>\n",
              "      <td>Haryana</td>\n",
              "      <td>p</td>\n",
              "      <td>75.000000</td>\n",
              "    </tr>\n",
              "    <tr>\n",
              "      <th>19</th>\n",
              "      <td>Haryana</td>\n",
              "      <td>s</td>\n",
              "      <td>25.000000</td>\n",
              "    </tr>\n",
              "    <tr>\n",
              "      <th>20</th>\n",
              "      <td>Himachal Pradesh</td>\n",
              "      <td>p</td>\n",
              "      <td>75.000000</td>\n",
              "    </tr>\n",
              "    <tr>\n",
              "      <th>21</th>\n",
              "      <td>Himachal Pradesh</td>\n",
              "      <td>s</td>\n",
              "      <td>25.000000</td>\n",
              "    </tr>\n",
              "    <tr>\n",
              "      <th>22</th>\n",
              "      <td>Jammu and Kashmir</td>\n",
              "      <td>s</td>\n",
              "      <td>62.790698</td>\n",
              "    </tr>\n",
              "    <tr>\n",
              "      <th>23</th>\n",
              "      <td>Jammu and Kashmir</td>\n",
              "      <td>p</td>\n",
              "      <td>37.209302</td>\n",
              "    </tr>\n",
              "    <tr>\n",
              "      <th>24</th>\n",
              "      <td>Jharkhand</td>\n",
              "      <td>p</td>\n",
              "      <td>100.000000</td>\n",
              "    </tr>\n",
              "    <tr>\n",
              "      <th>25</th>\n",
              "      <td>Karnataka</td>\n",
              "      <td>p</td>\n",
              "      <td>54.074074</td>\n",
              "    </tr>\n",
              "    <tr>\n",
              "      <th>26</th>\n",
              "      <td>Karnataka</td>\n",
              "      <td>s</td>\n",
              "      <td>45.925926</td>\n",
              "    </tr>\n",
              "    <tr>\n",
              "      <th>27</th>\n",
              "      <td>Kerala</td>\n",
              "      <td>p</td>\n",
              "      <td>71.784232</td>\n",
              "    </tr>\n",
              "    <tr>\n",
              "      <th>28</th>\n",
              "      <td>Kerala</td>\n",
              "      <td>s</td>\n",
              "      <td>28.215768</td>\n",
              "    </tr>\n",
              "    <tr>\n",
              "      <th>29</th>\n",
              "      <td>Ladakh</td>\n",
              "      <td>s</td>\n",
              "      <td>55.555556</td>\n",
              "    </tr>\n",
              "    <tr>\n",
              "      <th>30</th>\n",
              "      <td>Ladakh</td>\n",
              "      <td>p</td>\n",
              "      <td>44.444444</td>\n",
              "    </tr>\n",
              "    <tr>\n",
              "      <th>31</th>\n",
              "      <td>Madhya Pradesh</td>\n",
              "      <td>s</td>\n",
              "      <td>65.000000</td>\n",
              "    </tr>\n",
              "    <tr>\n",
              "      <th>32</th>\n",
              "      <td>Madhya Pradesh</td>\n",
              "      <td>p</td>\n",
              "      <td>35.000000</td>\n",
              "    </tr>\n",
              "    <tr>\n",
              "      <th>33</th>\n",
              "      <td>Maharashtra</td>\n",
              "      <td>s</td>\n",
              "      <td>51.587302</td>\n",
              "    </tr>\n",
              "    <tr>\n",
              "      <th>34</th>\n",
              "      <td>Maharashtra</td>\n",
              "      <td>p</td>\n",
              "      <td>48.412698</td>\n",
              "    </tr>\n",
              "    <tr>\n",
              "      <th>35</th>\n",
              "      <td>Manipur</td>\n",
              "      <td>p</td>\n",
              "      <td>50.000000</td>\n",
              "    </tr>\n",
              "    <tr>\n",
              "      <th>36</th>\n",
              "      <td>Manipur</td>\n",
              "      <td>s</td>\n",
              "      <td>50.000000</td>\n",
              "    </tr>\n",
              "    <tr>\n",
              "      <th>37</th>\n",
              "      <td>Mizoram</td>\n",
              "      <td>p</td>\n",
              "      <td>100.000000</td>\n",
              "    </tr>\n",
              "    <tr>\n",
              "      <th>38</th>\n",
              "      <td>Odisha</td>\n",
              "      <td>s</td>\n",
              "      <td>58.333333</td>\n",
              "    </tr>\n",
              "    <tr>\n",
              "      <th>39</th>\n",
              "      <td>Odisha</td>\n",
              "      <td>p</td>\n",
              "      <td>41.666667</td>\n",
              "    </tr>\n",
              "    <tr>\n",
              "      <th>40</th>\n",
              "      <td>Puducherry</td>\n",
              "      <td>s</td>\n",
              "      <td>66.666667</td>\n",
              "    </tr>\n",
              "    <tr>\n",
              "      <th>41</th>\n",
              "      <td>Puducherry</td>\n",
              "      <td>p</td>\n",
              "      <td>33.333333</td>\n",
              "    </tr>\n",
              "    <tr>\n",
              "      <th>42</th>\n",
              "      <td>Punjab</td>\n",
              "      <td>s</td>\n",
              "      <td>79.591837</td>\n",
              "    </tr>\n",
              "    <tr>\n",
              "      <th>43</th>\n",
              "      <td>Punjab</td>\n",
              "      <td>p</td>\n",
              "      <td>20.408163</td>\n",
              "    </tr>\n",
              "    <tr>\n",
              "      <th>44</th>\n",
              "      <td>Rajasthan</td>\n",
              "      <td>s</td>\n",
              "      <td>64.356436</td>\n",
              "    </tr>\n",
              "    <tr>\n",
              "      <th>45</th>\n",
              "      <td>Rajasthan</td>\n",
              "      <td>p</td>\n",
              "      <td>35.643564</td>\n",
              "    </tr>\n",
              "    <tr>\n",
              "      <th>46</th>\n",
              "      <td>Tamil Nadu</td>\n",
              "      <td>s</td>\n",
              "      <td>89.549180</td>\n",
              "    </tr>\n",
              "    <tr>\n",
              "      <th>47</th>\n",
              "      <td>Tamil Nadu</td>\n",
              "      <td>p</td>\n",
              "      <td>10.450820</td>\n",
              "    </tr>\n",
              "    <tr>\n",
              "      <th>48</th>\n",
              "      <td>Telangana</td>\n",
              "      <td>p</td>\n",
              "      <td>52.830189</td>\n",
              "    </tr>\n",
              "    <tr>\n",
              "      <th>49</th>\n",
              "      <td>Telangana</td>\n",
              "      <td>s</td>\n",
              "      <td>47.169811</td>\n",
              "    </tr>\n",
              "    <tr>\n",
              "      <th>50</th>\n",
              "      <td>Uttar Pradesh</td>\n",
              "      <td>s</td>\n",
              "      <td>64.406780</td>\n",
              "    </tr>\n",
              "    <tr>\n",
              "      <th>51</th>\n",
              "      <td>Uttar Pradesh</td>\n",
              "      <td>p</td>\n",
              "      <td>35.593220</td>\n",
              "    </tr>\n",
              "    <tr>\n",
              "      <th>52</th>\n",
              "      <td>Uttarakhand</td>\n",
              "      <td>s</td>\n",
              "      <td>55.555556</td>\n",
              "    </tr>\n",
              "    <tr>\n",
              "      <th>53</th>\n",
              "      <td>Uttarakhand</td>\n",
              "      <td>p</td>\n",
              "      <td>44.444444</td>\n",
              "    </tr>\n",
              "    <tr>\n",
              "      <th>54</th>\n",
              "      <td>West Bengal</td>\n",
              "      <td>s</td>\n",
              "      <td>54.166667</td>\n",
              "    </tr>\n",
              "    <tr>\n",
              "      <th>55</th>\n",
              "      <td>West Bengal</td>\n",
              "      <td>p</td>\n",
              "      <td>45.833333</td>\n",
              "    </tr>\n",
              "  </tbody>\n",
              "</table>\n",
              "</div>"
            ],
            "text/plain": [
              "                 detected_state flag       count\n",
              "0   Andaman and Nicobar Islands    p   66.666667\n",
              "1   Andaman and Nicobar Islands    s   33.333333\n",
              "2                Andhra Pradesh    s   65.116279\n",
              "3                Andhra Pradesh    p   34.883721\n",
              "4             Arunachal Pradesh    s  100.000000\n",
              "5                         Assam    s  100.000000\n",
              "6                         Bihar    p   73.913043\n",
              "7                         Bihar    s   26.086957\n",
              "8                    Chandigarh    s   68.750000\n",
              "9                    Chandigarh    p   31.250000\n",
              "10                 Chhattisgarh    p   75.000000\n",
              "11                 Chhattisgarh    s   25.000000\n",
              "12                        Delhi    s   65.573770\n",
              "13                        Delhi    p   34.426230\n",
              "14                          Goa    p   85.714286\n",
              "15                          Goa    s   14.285714\n",
              "16                      Gujarat    p   66.666667\n",
              "17                      Gujarat    s   33.333333\n",
              "18                      Haryana    p   75.000000\n",
              "19                      Haryana    s   25.000000\n",
              "20             Himachal Pradesh    p   75.000000\n",
              "21             Himachal Pradesh    s   25.000000\n",
              "22            Jammu and Kashmir    s   62.790698\n",
              "23            Jammu and Kashmir    p   37.209302\n",
              "24                    Jharkhand    p  100.000000\n",
              "25                    Karnataka    p   54.074074\n",
              "26                    Karnataka    s   45.925926\n",
              "27                       Kerala    p   71.784232\n",
              "28                       Kerala    s   28.215768\n",
              "29                       Ladakh    s   55.555556\n",
              "30                       Ladakh    p   44.444444\n",
              "31               Madhya Pradesh    s   65.000000\n",
              "32               Madhya Pradesh    p   35.000000\n",
              "33                  Maharashtra    s   51.587302\n",
              "34                  Maharashtra    p   48.412698\n",
              "35                      Manipur    p   50.000000\n",
              "36                      Manipur    s   50.000000\n",
              "37                      Mizoram    p  100.000000\n",
              "38                       Odisha    s   58.333333\n",
              "39                       Odisha    p   41.666667\n",
              "40                   Puducherry    s   66.666667\n",
              "41                   Puducherry    p   33.333333\n",
              "42                       Punjab    s   79.591837\n",
              "43                       Punjab    p   20.408163\n",
              "44                    Rajasthan    s   64.356436\n",
              "45                    Rajasthan    p   35.643564\n",
              "46                   Tamil Nadu    s   89.549180\n",
              "47                   Tamil Nadu    p   10.450820\n",
              "48                    Telangana    p   52.830189\n",
              "49                    Telangana    s   47.169811\n",
              "50                Uttar Pradesh    s   64.406780\n",
              "51                Uttar Pradesh    p   35.593220\n",
              "52                  Uttarakhand    s   55.555556\n",
              "53                  Uttarakhand    p   44.444444\n",
              "54                  West Bengal    s   54.166667\n",
              "55                  West Bengal    p   45.833333"
            ]
          },
          "metadata": {
            "tags": []
          },
          "execution_count": 59
        }
      ]
    },
    {
      "cell_type": "markdown",
      "metadata": {
        "id": "AmWBLn_HIQmM"
      },
      "source": [
        "### Part 7"
      ]
    },
    {
      "cell_type": "markdown",
      "metadata": {
        "id": "5n-Eo43zIQmM"
      },
      "source": [
        "## Assumptions made:\n",
        "* Samples tested 100000 as of 10-Apr-2020 from 01-Feb-2020 i.e. 70 days\n",
        "* Rate of increase of samples tested is 10% per day\n",
        "* Number of labs as of 10-Apr-2020 were calculated using the assumption made and considereing 100 tests per day per lab\n"
      ]
    },
    {
      "cell_type": "code",
      "metadata": {
        "id": "wi02SiW1IQmN",
        "outputId": "6735bd63-6420-4537-bfec-7302aca9f709"
      },
      "source": [
        "#total_case11 = 5496 # calulated based on the data provided in covid-19\n",
        "total_samples_tested = 100000\n",
        "rate  = 0.1\n",
        "additional_cases11 = 0\n",
        "additional_samples = 0\n",
        "for i in range(10):\n",
        "    #additional_cases11 = (1+rate)*total_case11\n",
        "    additional_samples = (1+rate)*total_samples_tested\n",
        "    total_case11 = additional_cases11\n",
        "    total_samples_tested = additional_samples\n",
        "    \n",
        "print(int(total_samples_tested))"
      ],
      "execution_count": null,
      "outputs": [
        {
          "output_type": "stream",
          "text": [
            "259374\n"
          ],
          "name": "stdout"
        }
      ]
    },
    {
      "cell_type": "code",
      "metadata": {
        "id": "Mev2ooFJIQmR"
      },
      "source": [
        "#additional = total_case11 - 5496"
      ],
      "execution_count": null,
      "outputs": []
    },
    {
      "cell_type": "code",
      "metadata": {
        "id": "VcYQK4GQIQmZ"
      },
      "source": [
        "additional_samples_per_day = 159374/10"
      ],
      "execution_count": null,
      "outputs": []
    },
    {
      "cell_type": "code",
      "metadata": {
        "id": "Yovwz3eYIQmc"
      },
      "source": [
        "tests_per_day = 100000/70"
      ],
      "execution_count": null,
      "outputs": []
    },
    {
      "cell_type": "code",
      "metadata": {
        "id": "TRoMrcQ2IQmg"
      },
      "source": [
        "existing_labs = tests_per_day/100"
      ],
      "execution_count": null,
      "outputs": []
    },
    {
      "cell_type": "code",
      "metadata": {
        "id": "D36BTwqAIQmj",
        "outputId": "a3e6074a-ed79-40f1-806b-d33d04a0946a"
      },
      "source": [
        "int(existing_labs)"
      ],
      "execution_count": null,
      "outputs": [
        {
          "output_type": "execute_result",
          "data": {
            "text/plain": [
              "14"
            ]
          },
          "metadata": {
            "tags": []
          },
          "execution_count": 221
        }
      ]
    },
    {
      "cell_type": "code",
      "metadata": {
        "id": "fB23W_LoIQmn"
      },
      "source": [
        "additional_labs_required = (additional_samples_per_day/100) - existing_labs"
      ],
      "execution_count": null,
      "outputs": []
    },
    {
      "cell_type": "code",
      "metadata": {
        "id": "jvvVvKH4IQmq",
        "outputId": "b099c4c4-bddf-4750-f75b-86fddf891cb2"
      },
      "source": [
        "int(additional_labs_required)"
      ],
      "execution_count": null,
      "outputs": [
        {
          "output_type": "execute_result",
          "data": {
            "text/plain": [
              "145"
            ]
          },
          "metadata": {
            "tags": []
          },
          "execution_count": 222
        }
      ]
    },
    {
      "cell_type": "markdown",
      "metadata": {
        "id": "Dg5bCwR9IQmt"
      },
      "source": [
        "### Additional labs required: 145"
      ]
    },
    {
      "cell_type": "markdown",
      "metadata": {
        "id": "yfoMFD_CIQmu"
      },
      "source": [
        "### Part 8 and Part 9"
      ]
    },
    {
      "cell_type": "code",
      "metadata": {
        "id": "b3PJXKPPIQmu"
      },
      "source": [
        "covid_india.head()\n",
        "covid_india['Date'] = pd.to_datetime(covid_india['Date'],dayfirst=True)"
      ],
      "execution_count": null,
      "outputs": []
    },
    {
      "cell_type": "code",
      "metadata": {
        "scrolled": true,
        "id": "YIswkldqIQmz",
        "outputId": "af86c088-d44b-4bed-9954-d9a38b01dc82"
      },
      "source": [
        "covid_india.head()"
      ],
      "execution_count": null,
      "outputs": [
        {
          "output_type": "execute_result",
          "data": {
            "text/html": [
              "<div>\n",
              "<style scoped>\n",
              "    .dataframe tbody tr th:only-of-type {\n",
              "        vertical-align: middle;\n",
              "    }\n",
              "\n",
              "    .dataframe tbody tr th {\n",
              "        vertical-align: top;\n",
              "    }\n",
              "\n",
              "    .dataframe thead th {\n",
              "        text-align: right;\n",
              "    }\n",
              "</style>\n",
              "<table border=\"1\" class=\"dataframe\">\n",
              "  <thead>\n",
              "    <tr style=\"text-align: right;\">\n",
              "      <th></th>\n",
              "      <th>Sno</th>\n",
              "      <th>Date</th>\n",
              "      <th>Time</th>\n",
              "      <th>State/UT</th>\n",
              "      <th>ConfirmedIndianNational</th>\n",
              "      <th>ConfirmedForeignNational</th>\n",
              "      <th>Cured</th>\n",
              "      <th>Deaths</th>\n",
              "      <th>Confirmed</th>\n",
              "    </tr>\n",
              "  </thead>\n",
              "  <tbody>\n",
              "    <tr>\n",
              "      <th>0</th>\n",
              "      <td>1</td>\n",
              "      <td>2020-01-30</td>\n",
              "      <td>6:00 PM</td>\n",
              "      <td>Kerala</td>\n",
              "      <td>1</td>\n",
              "      <td>0</td>\n",
              "      <td>0</td>\n",
              "      <td>0</td>\n",
              "      <td>1</td>\n",
              "    </tr>\n",
              "    <tr>\n",
              "      <th>1</th>\n",
              "      <td>2</td>\n",
              "      <td>2020-01-31</td>\n",
              "      <td>6:00 PM</td>\n",
              "      <td>Kerala</td>\n",
              "      <td>1</td>\n",
              "      <td>0</td>\n",
              "      <td>0</td>\n",
              "      <td>0</td>\n",
              "      <td>1</td>\n",
              "    </tr>\n",
              "    <tr>\n",
              "      <th>2</th>\n",
              "      <td>3</td>\n",
              "      <td>2020-02-01</td>\n",
              "      <td>6:00 PM</td>\n",
              "      <td>Kerala</td>\n",
              "      <td>2</td>\n",
              "      <td>0</td>\n",
              "      <td>0</td>\n",
              "      <td>0</td>\n",
              "      <td>2</td>\n",
              "    </tr>\n",
              "    <tr>\n",
              "      <th>3</th>\n",
              "      <td>4</td>\n",
              "      <td>2020-02-02</td>\n",
              "      <td>6:00 PM</td>\n",
              "      <td>Kerala</td>\n",
              "      <td>3</td>\n",
              "      <td>0</td>\n",
              "      <td>0</td>\n",
              "      <td>0</td>\n",
              "      <td>3</td>\n",
              "    </tr>\n",
              "    <tr>\n",
              "      <th>4</th>\n",
              "      <td>5</td>\n",
              "      <td>2020-02-03</td>\n",
              "      <td>6:00 PM</td>\n",
              "      <td>Kerala</td>\n",
              "      <td>3</td>\n",
              "      <td>0</td>\n",
              "      <td>0</td>\n",
              "      <td>0</td>\n",
              "      <td>3</td>\n",
              "    </tr>\n",
              "  </tbody>\n",
              "</table>\n",
              "</div>"
            ],
            "text/plain": [
              "   Sno       Date     Time State/UT ConfirmedIndianNational  \\\n",
              "0    1 2020-01-30  6:00 PM   Kerala                       1   \n",
              "1    2 2020-01-31  6:00 PM   Kerala                       1   \n",
              "2    3 2020-02-01  6:00 PM   Kerala                       2   \n",
              "3    4 2020-02-02  6:00 PM   Kerala                       3   \n",
              "4    5 2020-02-03  6:00 PM   Kerala                       3   \n",
              "\n",
              "  ConfirmedForeignNational  Cured  Deaths  Confirmed  \n",
              "0                        0      0       0          1  \n",
              "1                        0      0       0          1  \n",
              "2                        0      0       0          2  \n",
              "3                        0      0       0          3  \n",
              "4                        0      0       0          3  "
            ]
          },
          "metadata": {
            "tags": []
          },
          "execution_count": 61
        }
      ]
    },
    {
      "cell_type": "code",
      "metadata": {
        "id": "Hdc3YnGVIQm2"
      },
      "source": [
        "a = pd.DataFrame(covid_india.groupby(['Date'])['Confirmed'].max())\n",
        "date1,date2 = '2020-02-01','2020-03-23'"
      ],
      "execution_count": null,
      "outputs": []
    },
    {
      "cell_type": "code",
      "metadata": {
        "id": "64ITSjoZIQm6"
      },
      "source": [
        "daily_cases = pd.DataFrame(covid_india.groupby('Date').apply(lambda x: x.groupby('State/UT')['Confirmed'].max().sum())).reset_index()"
      ],
      "execution_count": null,
      "outputs": []
    },
    {
      "cell_type": "code",
      "metadata": {
        "id": "WChIF4P7IQm9"
      },
      "source": [
        "filter2 = daily_cases[(daily_cases['Date']>=startdate)&((daily_cases['Date']<=enddate))] \n",
        "filter3 = daily_cases[(daily_cases['Date']>=date1)&((daily_cases['Date']<=date2))] "
      ],
      "execution_count": null,
      "outputs": []
    },
    {
      "cell_type": "code",
      "metadata": {
        "id": "ffw0L4R2IQnA",
        "outputId": "6f223f54-61e5-47af-f2e1-25321e4ebfc6"
      },
      "source": [
        "filter2"
      ],
      "execution_count": null,
      "outputs": [
        {
          "output_type": "execute_result",
          "data": {
            "text/html": [
              "<div>\n",
              "<style scoped>\n",
              "    .dataframe tbody tr th:only-of-type {\n",
              "        vertical-align: middle;\n",
              "    }\n",
              "\n",
              "    .dataframe tbody tr th {\n",
              "        vertical-align: top;\n",
              "    }\n",
              "\n",
              "    .dataframe thead th {\n",
              "        text-align: right;\n",
              "    }\n",
              "</style>\n",
              "<table border=\"1\" class=\"dataframe\">\n",
              "  <thead>\n",
              "    <tr style=\"text-align: right;\">\n",
              "      <th></th>\n",
              "      <th>Date</th>\n",
              "      <th>0</th>\n",
              "    </tr>\n",
              "  </thead>\n",
              "  <tbody>\n",
              "    <tr>\n",
              "      <th>50</th>\n",
              "      <td>2020-03-20</td>\n",
              "      <td>223</td>\n",
              "    </tr>\n",
              "    <tr>\n",
              "      <th>51</th>\n",
              "      <td>2020-03-21</td>\n",
              "      <td>283</td>\n",
              "    </tr>\n",
              "    <tr>\n",
              "      <th>52</th>\n",
              "      <td>2020-03-22</td>\n",
              "      <td>360</td>\n",
              "    </tr>\n",
              "    <tr>\n",
              "      <th>53</th>\n",
              "      <td>2020-03-23</td>\n",
              "      <td>433</td>\n",
              "    </tr>\n",
              "    <tr>\n",
              "      <th>54</th>\n",
              "      <td>2020-03-24</td>\n",
              "      <td>519</td>\n",
              "    </tr>\n",
              "    <tr>\n",
              "      <th>55</th>\n",
              "      <td>2020-03-25</td>\n",
              "      <td>606</td>\n",
              "    </tr>\n",
              "    <tr>\n",
              "      <th>56</th>\n",
              "      <td>2020-03-26</td>\n",
              "      <td>694</td>\n",
              "    </tr>\n",
              "    <tr>\n",
              "      <th>57</th>\n",
              "      <td>2020-03-27</td>\n",
              "      <td>724</td>\n",
              "    </tr>\n",
              "    <tr>\n",
              "      <th>58</th>\n",
              "      <td>2020-03-28</td>\n",
              "      <td>909</td>\n",
              "    </tr>\n",
              "    <tr>\n",
              "      <th>59</th>\n",
              "      <td>2020-03-29</td>\n",
              "      <td>1024</td>\n",
              "    </tr>\n",
              "    <tr>\n",
              "      <th>60</th>\n",
              "      <td>2020-03-30</td>\n",
              "      <td>1251</td>\n",
              "    </tr>\n",
              "    <tr>\n",
              "      <th>61</th>\n",
              "      <td>2020-03-31</td>\n",
              "      <td>1397</td>\n",
              "    </tr>\n",
              "    <tr>\n",
              "      <th>62</th>\n",
              "      <td>2020-04-01</td>\n",
              "      <td>1834</td>\n",
              "    </tr>\n",
              "    <tr>\n",
              "      <th>63</th>\n",
              "      <td>2020-04-02</td>\n",
              "      <td>2069</td>\n",
              "    </tr>\n",
              "    <tr>\n",
              "      <th>64</th>\n",
              "      <td>2020-04-03</td>\n",
              "      <td>2547</td>\n",
              "    </tr>\n",
              "    <tr>\n",
              "      <th>65</th>\n",
              "      <td>2020-04-04</td>\n",
              "      <td>3072</td>\n",
              "    </tr>\n",
              "    <tr>\n",
              "      <th>66</th>\n",
              "      <td>2020-04-05</td>\n",
              "      <td>3577</td>\n",
              "    </tr>\n",
              "    <tr>\n",
              "      <th>67</th>\n",
              "      <td>2020-04-06</td>\n",
              "      <td>4281</td>\n",
              "    </tr>\n",
              "    <tr>\n",
              "      <th>68</th>\n",
              "      <td>2020-04-07</td>\n",
              "      <td>4421</td>\n",
              "    </tr>\n",
              "  </tbody>\n",
              "</table>\n",
              "</div>"
            ],
            "text/plain": [
              "         Date     0\n",
              "50 2020-03-20   223\n",
              "51 2020-03-21   283\n",
              "52 2020-03-22   360\n",
              "53 2020-03-23   433\n",
              "54 2020-03-24   519\n",
              "55 2020-03-25   606\n",
              "56 2020-03-26   694\n",
              "57 2020-03-27   724\n",
              "58 2020-03-28   909\n",
              "59 2020-03-29  1024\n",
              "60 2020-03-30  1251\n",
              "61 2020-03-31  1397\n",
              "62 2020-04-01  1834\n",
              "63 2020-04-02  2069\n",
              "64 2020-04-03  2547\n",
              "65 2020-04-04  3072\n",
              "66 2020-04-05  3577\n",
              "67 2020-04-06  4281\n",
              "68 2020-04-07  4421"
            ]
          },
          "metadata": {
            "tags": []
          },
          "execution_count": 119
        }
      ]
    },
    {
      "cell_type": "code",
      "metadata": {
        "id": "fvWAkWFYIQnH",
        "outputId": "e20b857a-295a-4f36-9549-613aaa14eaa4"
      },
      "source": [
        "plt.figure(figsize=(30,30))\n",
        "plt.subplot(3,2,1)\n",
        "sns.lineplot(x = filter2['Date'], y = filter2[0])\n",
        "plt.xlabel('Date', fontsize = 18)\n",
        "plt.ylabel('Number of cases', fontsize = 18)\n",
        "plt.title('Number of cases reported on daily bases in India after lockdown', fontsize = 18);\n",
        "plt.xticks(rotation=45);\n",
        "plt.grid()\n",
        "plt.subplot(3,2,2)\n",
        "sns.lineplot(x = filter3['Date'], y = filter3[0])\n",
        "plt.xlabel('Date', fontsize = 18)\n",
        "plt.ylabel('Number of cases', fontsize = 18)\n",
        "plt.title('Number of cases reported on daily bases in India before lockdown', fontsize = 18);\n",
        "#sns.set_xticktlabels(sns.lineplot(x = a['Date'], y = a['cumsum']).get_xticklabels(),rotation=90);\n",
        "plt.xticks(rotation=45);\n",
        "plt.grid()\n",
        "plt.subplot(3,2,3)\n",
        "sns.lineplot(x = daily_cases['Date'], y = daily_cases[0])\n",
        "plt.xlabel('Date', fontsize = 18)\n",
        "plt.ylabel('Number of cases', fontsize = 18)\n",
        "plt.title('Number of cases reported on daily bases in India', fontsize = 18);\n",
        "plt.xticks(rotation=45);\n",
        "plt.grid()"
      ],
      "execution_count": null,
      "outputs": [
        {
          "output_type": "display_data",
          "data": {
            "image/png": "[encoded data removed]",
            "text/plain": [
              "<Figure size 2160x2160 with 3 Axes>"
            ]
          },
          "metadata": {
            "tags": [],
            "needs_background": "light"
          }
        }
      ]
    },
    {
      "cell_type": "markdown",
      "metadata": {
        "id": "ncAOzCXfIQnK"
      },
      "source": [
        "### Effect of lockdown:\n",
        "* Based on the plots above, It has been observed that the rate of doubling of the covid-19 cases has increaed after lockdown\n",
        "* Lockdown has not been effective in terms of decresasing the rate of doubling covid-19 cases"
      ]
    }
  ]
}